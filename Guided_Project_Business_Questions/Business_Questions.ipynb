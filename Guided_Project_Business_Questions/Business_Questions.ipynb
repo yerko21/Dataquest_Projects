{
 "cells": [
  {
   "cell_type": "markdown",
   "metadata": {},
   "source": [
    "conda install -c conda-forge ipython-sql"
   ]
  },
  {
   "cell_type": "markdown",
   "metadata": {},
   "source": [
    "## Introduction and Schema Diagram"
   ]
  },
  {
   "cell_type": "code",
   "execution_count": 2,
   "metadata": {},
   "outputs": [],
   "source": [
    "%%capture\n",
    "%load_ext sql\n",
    "%sql sqlite:///chinook.db"
   ]
  },
  {
   "cell_type": "markdown",
   "metadata": {},
   "source": [
    "## Overview of Data"
   ]
  },
  {
   "cell_type": "code",
   "execution_count": 3,
   "metadata": {},
   "outputs": [
    {
     "name": "stdout",
     "output_type": "stream",
     "text": [
      " * sqlite:///chinook.db\n",
      "Done.\n"
     ]
    },
    {
     "data": {
      "text/html": [
       "<table>\n",
       "    <tr>\n",
       "        <th>name</th>\n",
       "        <th>type</th>\n",
       "    </tr>\n",
       "    <tr>\n",
       "        <td>Album</td>\n",
       "        <td>table</td>\n",
       "    </tr>\n",
       "    <tr>\n",
       "        <td>Artist</td>\n",
       "        <td>table</td>\n",
       "    </tr>\n",
       "    <tr>\n",
       "        <td>Customer</td>\n",
       "        <td>table</td>\n",
       "    </tr>\n",
       "    <tr>\n",
       "        <td>Employee</td>\n",
       "        <td>table</td>\n",
       "    </tr>\n",
       "    <tr>\n",
       "        <td>Genre</td>\n",
       "        <td>table</td>\n",
       "    </tr>\n",
       "    <tr>\n",
       "        <td>Invoice</td>\n",
       "        <td>table</td>\n",
       "    </tr>\n",
       "    <tr>\n",
       "        <td>InvoiceLine</td>\n",
       "        <td>table</td>\n",
       "    </tr>\n",
       "    <tr>\n",
       "        <td>MediaType</td>\n",
       "        <td>table</td>\n",
       "    </tr>\n",
       "    <tr>\n",
       "        <td>Playlist</td>\n",
       "        <td>table</td>\n",
       "    </tr>\n",
       "    <tr>\n",
       "        <td>PlaylistTrack</td>\n",
       "        <td>table</td>\n",
       "    </tr>\n",
       "    <tr>\n",
       "        <td>Track</td>\n",
       "        <td>table</td>\n",
       "    </tr>\n",
       "</table>"
      ],
      "text/plain": [
       "[('Album', 'table'),\n",
       " ('Artist', 'table'),\n",
       " ('Customer', 'table'),\n",
       " ('Employee', 'table'),\n",
       " ('Genre', 'table'),\n",
       " ('Invoice', 'table'),\n",
       " ('InvoiceLine', 'table'),\n",
       " ('MediaType', 'table'),\n",
       " ('Playlist', 'table'),\n",
       " ('PlaylistTrack', 'table'),\n",
       " ('Track', 'table')]"
      ]
     },
     "execution_count": 3,
     "metadata": {},
     "output_type": "execute_result"
    }
   ],
   "source": [
    "%%sql\n",
    "SELECT\n",
    "    name,\n",
    "    type\n",
    "FROM sqlite_master\n",
    "WHERE type IN (\"table\",\"view\");"
   ]
  },
  {
   "cell_type": "markdown",
   "metadata": {},
   "source": [
    "## Selecting New Albums to Purchase¶\n",
    "Specifically we will write a query to find out which genres sell the most tracks in the USA, write up a summary, and make a recommendation for the three artists whose albums we should purchase for the store."
   ]
  },
  {
   "cell_type": "code",
   "execution_count": 4,
   "metadata": {},
   "outputs": [
    {
     "name": "stdout",
     "output_type": "stream",
     "text": [
      " * sqlite:///chinook.db\n",
      "Done.\n"
     ]
    },
    {
     "data": {
      "text/html": [
       "<table>\n",
       "    <tr>\n",
       "        <th>genre</th>\n",
       "        <th>tracks_sold</th>\n",
       "        <th>percentage_sold</th>\n",
       "    </tr>\n",
       "    <tr>\n",
       "        <td>Rock</td>\n",
       "        <td>157</td>\n",
       "        <td>0.31781376518218624</td>\n",
       "    </tr>\n",
       "    <tr>\n",
       "        <td>Latin</td>\n",
       "        <td>91</td>\n",
       "        <td>0.18421052631578946</td>\n",
       "    </tr>\n",
       "    <tr>\n",
       "        <td>Metal</td>\n",
       "        <td>64</td>\n",
       "        <td>0.12955465587044535</td>\n",
       "    </tr>\n",
       "    <tr>\n",
       "        <td>Alternative &amp; Punk</td>\n",
       "        <td>50</td>\n",
       "        <td>0.10121457489878542</td>\n",
       "    </tr>\n",
       "    <tr>\n",
       "        <td>Jazz</td>\n",
       "        <td>22</td>\n",
       "        <td>0.044534412955465584</td>\n",
       "    </tr>\n",
       "    <tr>\n",
       "        <td>Blues</td>\n",
       "        <td>15</td>\n",
       "        <td>0.030364372469635626</td>\n",
       "    </tr>\n",
       "    <tr>\n",
       "        <td>TV Shows</td>\n",
       "        <td>14</td>\n",
       "        <td>0.02834008097165992</td>\n",
       "    </tr>\n",
       "    <tr>\n",
       "        <td>R&amp;B/Soul</td>\n",
       "        <td>12</td>\n",
       "        <td>0.024291497975708502</td>\n",
       "    </tr>\n",
       "    <tr>\n",
       "        <td>Comedy</td>\n",
       "        <td>8</td>\n",
       "        <td>0.016194331983805668</td>\n",
       "    </tr>\n",
       "    <tr>\n",
       "        <td>Classical</td>\n",
       "        <td>8</td>\n",
       "        <td>0.016194331983805668</td>\n",
       "    </tr>\n",
       "</table>"
      ],
      "text/plain": [
       "[('Rock', 157, 0.31781376518218624),\n",
       " ('Latin', 91, 0.18421052631578946),\n",
       " ('Metal', 64, 0.12955465587044535),\n",
       " ('Alternative & Punk', 50, 0.10121457489878542),\n",
       " ('Jazz', 22, 0.044534412955465584),\n",
       " ('Blues', 15, 0.030364372469635626),\n",
       " ('TV Shows', 14, 0.02834008097165992),\n",
       " ('R&B/Soul', 12, 0.024291497975708502),\n",
       " ('Comedy', 8, 0.016194331983805668),\n",
       " ('Classical', 8, 0.016194331983805668)]"
      ]
     },
     "execution_count": 4,
     "metadata": {},
     "output_type": "execute_result"
    }
   ],
   "source": [
    "%%sql\n",
    "\n",
    "WITH usa_tracks_sold AS\n",
    "   (\n",
    "    SELECT il.* FROM InvoiceLine il\n",
    "    INNER JOIN Invoice i on il.InvoiceId = i.InvoiceId\n",
    "    INNER JOIN Customer c on i.CustomerId = c.CustomerId\n",
    "    WHERE c.Country = \"USA\"\n",
    "   )\n",
    "\n",
    "SELECT\n",
    "    g.name genre,\n",
    "    count(uts.InvoiceLineId) tracks_sold,\n",
    "    cast(count(uts.InvoiceLineId) AS FLOAT) / (\n",
    "        SELECT COUNT(*) from usa_tracks_sold\n",
    "    ) percentage_sold\n",
    "FROM usa_tracks_sold uts\n",
    "INNER JOIN Track t on t.TrackId = uts.TrackId\n",
    "INNER JOIN Genre g on g.GenreId = t.GenreId\n",
    "GROUP BY 1\n",
    "ORDER BY 2 DESC\n",
    "LIMIT 10;"
   ]
  },
  {
   "cell_type": "markdown",
   "metadata": {},
   "source": [
    "Based on the sales of tracks across different genres in the USA, we should purchase the new albums by the following artists:\n",
    "\n",
    "- Red Tone (Punk)\n",
    "- Slim Jim Bites (Blues)\n",
    "- Meteor and the Girls (Pop)\n",
    "\n",
    "It's worth keeping in mind that combined, these three genres only make up only 17% of total sales, so we should be on the lookout for artists and albums from the 'rock' genre, which accounts for 53% of sales."
   ]
  },
  {
   "cell_type": "markdown",
   "metadata": {},
   "source": [
    "## Analyzing Employee Sales Performance"
   ]
  },
  {
   "cell_type": "code",
   "execution_count": 5,
   "metadata": {},
   "outputs": [
    {
     "name": "stdout",
     "output_type": "stream",
     "text": [
      " * sqlite:///chinook.db\n",
      "Done.\n"
     ]
    },
    {
     "data": {
      "text/html": [
       "<table>\n",
       "    <tr>\n",
       "        <th>EmployeeId</th>\n",
       "        <th>LastName</th>\n",
       "        <th>FirstName</th>\n",
       "        <th>Title</th>\n",
       "        <th>ReportsTo</th>\n",
       "        <th>BirthDate</th>\n",
       "        <th>HireDate</th>\n",
       "        <th>Address</th>\n",
       "        <th>City</th>\n",
       "        <th>State</th>\n",
       "        <th>Country</th>\n",
       "        <th>PostalCode</th>\n",
       "        <th>Phone</th>\n",
       "        <th>Fax</th>\n",
       "        <th>Email</th>\n",
       "    </tr>\n",
       "    <tr>\n",
       "        <td>1</td>\n",
       "        <td>Adams</td>\n",
       "        <td>Andrew</td>\n",
       "        <td>General Manager</td>\n",
       "        <td>None</td>\n",
       "        <td>1962-02-18 00:00:00</td>\n",
       "        <td>2002-08-14 00:00:00</td>\n",
       "        <td>11120 Jasper Ave NW</td>\n",
       "        <td>Edmonton</td>\n",
       "        <td>AB</td>\n",
       "        <td>Canada</td>\n",
       "        <td>T5K 2N1</td>\n",
       "        <td>+1 (780) 428-9482</td>\n",
       "        <td>+1 (780) 428-3457</td>\n",
       "        <td>andrew@chinookcorp.com</td>\n",
       "    </tr>\n",
       "    <tr>\n",
       "        <td>2</td>\n",
       "        <td>Edwards</td>\n",
       "        <td>Nancy</td>\n",
       "        <td>Sales Manager</td>\n",
       "        <td>1</td>\n",
       "        <td>1958-12-08 00:00:00</td>\n",
       "        <td>2002-05-01 00:00:00</td>\n",
       "        <td>825 8 Ave SW</td>\n",
       "        <td>Calgary</td>\n",
       "        <td>AB</td>\n",
       "        <td>Canada</td>\n",
       "        <td>T2P 2T3</td>\n",
       "        <td>+1 (403) 262-3443</td>\n",
       "        <td>+1 (403) 262-3322</td>\n",
       "        <td>nancy@chinookcorp.com</td>\n",
       "    </tr>\n",
       "    <tr>\n",
       "        <td>3</td>\n",
       "        <td>Peacock</td>\n",
       "        <td>Jane</td>\n",
       "        <td>Sales Support Agent</td>\n",
       "        <td>2</td>\n",
       "        <td>1973-08-29 00:00:00</td>\n",
       "        <td>2002-04-01 00:00:00</td>\n",
       "        <td>1111 6 Ave SW</td>\n",
       "        <td>Calgary</td>\n",
       "        <td>AB</td>\n",
       "        <td>Canada</td>\n",
       "        <td>T2P 5M5</td>\n",
       "        <td>+1 (403) 262-3443</td>\n",
       "        <td>+1 (403) 262-6712</td>\n",
       "        <td>jane@chinookcorp.com</td>\n",
       "    </tr>\n",
       "    <tr>\n",
       "        <td>4</td>\n",
       "        <td>Park</td>\n",
       "        <td>Margaret</td>\n",
       "        <td>Sales Support Agent</td>\n",
       "        <td>2</td>\n",
       "        <td>1947-09-19 00:00:00</td>\n",
       "        <td>2003-05-03 00:00:00</td>\n",
       "        <td>683 10 Street SW</td>\n",
       "        <td>Calgary</td>\n",
       "        <td>AB</td>\n",
       "        <td>Canada</td>\n",
       "        <td>T2P 5G3</td>\n",
       "        <td>+1 (403) 263-4423</td>\n",
       "        <td>+1 (403) 263-4289</td>\n",
       "        <td>margaret@chinookcorp.com</td>\n",
       "    </tr>\n",
       "    <tr>\n",
       "        <td>5</td>\n",
       "        <td>Johnson</td>\n",
       "        <td>Steve</td>\n",
       "        <td>Sales Support Agent</td>\n",
       "        <td>2</td>\n",
       "        <td>1965-03-03 00:00:00</td>\n",
       "        <td>2003-10-17 00:00:00</td>\n",
       "        <td>7727B 41 Ave</td>\n",
       "        <td>Calgary</td>\n",
       "        <td>AB</td>\n",
       "        <td>Canada</td>\n",
       "        <td>T3B 1Y7</td>\n",
       "        <td>1 (780) 836-9987</td>\n",
       "        <td>1 (780) 836-9543</td>\n",
       "        <td>steve@chinookcorp.com</td>\n",
       "    </tr>\n",
       "</table>"
      ],
      "text/plain": [
       "[(1, 'Adams', 'Andrew', 'General Manager', None, '1962-02-18 00:00:00', '2002-08-14 00:00:00', '11120 Jasper Ave NW', 'Edmonton', 'AB', 'Canada', 'T5K 2N1', '+1 (780) 428-9482', '+1 (780) 428-3457', 'andrew@chinookcorp.com'),\n",
       " (2, 'Edwards', 'Nancy', 'Sales Manager', 1, '1958-12-08 00:00:00', '2002-05-01 00:00:00', '825 8 Ave SW', 'Calgary', 'AB', 'Canada', 'T2P 2T3', '+1 (403) 262-3443', '+1 (403) 262-3322', 'nancy@chinookcorp.com'),\n",
       " (3, 'Peacock', 'Jane', 'Sales Support Agent', 2, '1973-08-29 00:00:00', '2002-04-01 00:00:00', '1111 6 Ave SW', 'Calgary', 'AB', 'Canada', 'T2P 5M5', '+1 (403) 262-3443', '+1 (403) 262-6712', 'jane@chinookcorp.com'),\n",
       " (4, 'Park', 'Margaret', 'Sales Support Agent', 2, '1947-09-19 00:00:00', '2003-05-03 00:00:00', '683 10 Street SW', 'Calgary', 'AB', 'Canada', 'T2P 5G3', '+1 (403) 263-4423', '+1 (403) 263-4289', 'margaret@chinookcorp.com'),\n",
       " (5, 'Johnson', 'Steve', 'Sales Support Agent', 2, '1965-03-03 00:00:00', '2003-10-17 00:00:00', '7727B 41 Ave', 'Calgary', 'AB', 'Canada', 'T3B 1Y7', '1 (780) 836-9987', '1 (780) 836-9543', 'steve@chinookcorp.com')]"
      ]
     },
     "execution_count": 5,
     "metadata": {},
     "output_type": "execute_result"
    }
   ],
   "source": [
    "%%sql\n",
    "\n",
    "Select *\n",
    "From Employee\n",
    "LIMIT 5"
   ]
  },
  {
   "cell_type": "code",
   "execution_count": 6,
   "metadata": {},
   "outputs": [
    {
     "name": "stdout",
     "output_type": "stream",
     "text": [
      " * sqlite:///chinook.db\n",
      "Done.\n"
     ]
    },
    {
     "data": {
      "text/html": [
       "<table>\n",
       "    <tr>\n",
       "        <th>employee</th>\n",
       "        <th>HireDate</th>\n",
       "        <th>total_sales</th>\n",
       "    </tr>\n",
       "    <tr>\n",
       "        <td>Jane Peacock</td>\n",
       "        <td>2002-04-01 00:00:00</td>\n",
       "        <td>833.04</td>\n",
       "    </tr>\n",
       "    <tr>\n",
       "        <td>Margaret Park</td>\n",
       "        <td>2003-05-03 00:00:00</td>\n",
       "        <td>775.4</td>\n",
       "    </tr>\n",
       "    <tr>\n",
       "        <td>Steve Johnson</td>\n",
       "        <td>2003-10-17 00:00:00</td>\n",
       "        <td>720.16</td>\n",
       "    </tr>\n",
       "</table>"
      ],
      "text/plain": [
       "[('Jane Peacock', '2002-04-01 00:00:00', 833.04),\n",
       " ('Margaret Park', '2003-05-03 00:00:00', 775.4),\n",
       " ('Steve Johnson', '2003-10-17 00:00:00', 720.16)]"
      ]
     },
     "execution_count": 6,
     "metadata": {},
     "output_type": "execute_result"
    }
   ],
   "source": [
    "%%sql\n",
    "\n",
    "WITH customer_support_rep_sales AS\n",
    "\n",
    "    (\n",
    "    SELECT \n",
    "        i.CustomerId,\n",
    "        c.SupportRepId,\n",
    "        ROUND(SUM(i.Total), 2) total\n",
    "    FROM Invoice i\n",
    "    INNER JOIN Customer c ON i.CustomerId = c.CustomerId\n",
    "    GROUP BY 1,2\n",
    "    )\n",
    "    \n",
    "SELECT    \n",
    "    e.FirstName || \" \" || e.LastName employee,\n",
    "    e.HireDate,\n",
    "    SUM(csrs.total) total_sales\n",
    "FROM customer_support_rep_sales csrs\n",
    "INNER JOIN Employee e ON e.EmployeeID = csrs.SupportRepId\n",
    "GROUP BY 1;"
   ]
  },
  {
   "cell_type": "markdown",
   "metadata": {},
   "source": [
    "While there is a 20% difference in sales between Jane (the top employee) and Steve (the bottom employee), the difference roughly corresponds with the differences in their hiring dates.\n",
    "\n",
    "## Analyzing Sales by Country"
   ]
  },
  {
   "cell_type": "markdown",
   "metadata": {},
   "source": [
    "Write a query that finds the total dollar amount of sales assigned to each sales support agent within the company. Add any extra attributes for that employee that you find are relevant to the analysis."
   ]
  },
  {
   "cell_type": "code",
   "execution_count": 13,
   "metadata": {},
   "outputs": [
    {
     "name": "stdout",
     "output_type": "stream",
     "text": [
      " * sqlite:///chinook.db\n",
      "Done.\n"
     ]
    },
    {
     "data": {
      "text/html": [
       "<table>\n",
       "    <tr>\n",
       "        <th>country</th>\n",
       "        <th>customers</th>\n",
       "        <th>total_sales</th>\n",
       "        <th>average_order</th>\n",
       "        <th>customer_lifetime_value</th>\n",
       "    </tr>\n",
       "    <tr>\n",
       "        <td>USA</td>\n",
       "        <td>13</td>\n",
       "        <td>523.060000000003</td>\n",
       "        <td>5.747912087912121</td>\n",
       "        <td>40.235384615384845</td>\n",
       "    </tr>\n",
       "    <tr>\n",
       "        <td>Canada</td>\n",
       "        <td>8</td>\n",
       "        <td>303.96000000000134</td>\n",
       "        <td>5.4278571428571665</td>\n",
       "        <td>37.99500000000017</td>\n",
       "    </tr>\n",
       "    <tr>\n",
       "        <td>France</td>\n",
       "        <td>5</td>\n",
       "        <td>195.1000000000003</td>\n",
       "        <td>5.574285714285723</td>\n",
       "        <td>39.02000000000006</td>\n",
       "    </tr>\n",
       "    <tr>\n",
       "        <td>Brazil</td>\n",
       "        <td>5</td>\n",
       "        <td>190.10000000000028</td>\n",
       "        <td>5.4314285714285795</td>\n",
       "        <td>38.02000000000005</td>\n",
       "    </tr>\n",
       "    <tr>\n",
       "        <td>Germany</td>\n",
       "        <td>4</td>\n",
       "        <td>156.48</td>\n",
       "        <td>5.588571428571428</td>\n",
       "        <td>39.12</td>\n",
       "    </tr>\n",
       "    <tr>\n",
       "        <td>United Kingdom</td>\n",
       "        <td>3</td>\n",
       "        <td>112.85999999999979</td>\n",
       "        <td>5.374285714285704</td>\n",
       "        <td>37.619999999999926</td>\n",
       "    </tr>\n",
       "    <tr>\n",
       "        <td>Czech Republic</td>\n",
       "        <td>2</td>\n",
       "        <td>90.23999999999997</td>\n",
       "        <td>6.445714285714283</td>\n",
       "        <td>45.11999999999998</td>\n",
       "    </tr>\n",
       "    <tr>\n",
       "        <td>Portugal</td>\n",
       "        <td>2</td>\n",
       "        <td>77.23999999999997</td>\n",
       "        <td>5.517142857142855</td>\n",
       "        <td>38.61999999999998</td>\n",
       "    </tr>\n",
       "    <tr>\n",
       "        <td>India</td>\n",
       "        <td>2</td>\n",
       "        <td>75.25999999999999</td>\n",
       "        <td>5.789230769230769</td>\n",
       "        <td>37.629999999999995</td>\n",
       "    </tr>\n",
       "    <tr>\n",
       "        <td>Other</td>\n",
       "        <td>15</td>\n",
       "        <td>604.3000000000038</td>\n",
       "        <td>5.7552380952381315</td>\n",
       "        <td>40.286666666666925</td>\n",
       "    </tr>\n",
       "</table>"
      ],
      "text/plain": [
       "[('USA', 13, 523.060000000003, 5.747912087912121, 40.235384615384845),\n",
       " ('Canada', 8, 303.96000000000134, 5.4278571428571665, 37.99500000000017),\n",
       " ('France', 5, 195.1000000000003, 5.574285714285723, 39.02000000000006),\n",
       " ('Brazil', 5, 190.10000000000028, 5.4314285714285795, 38.02000000000005),\n",
       " ('Germany', 4, 156.48, 5.588571428571428, 39.12),\n",
       " ('United Kingdom', 3, 112.85999999999979, 5.374285714285704, 37.619999999999926),\n",
       " ('Czech Republic', 2, 90.23999999999997, 6.445714285714283, 45.11999999999998),\n",
       " ('Portugal', 2, 77.23999999999997, 5.517142857142855, 38.61999999999998),\n",
       " ('India', 2, 75.25999999999999, 5.789230769230769, 37.629999999999995),\n",
       " ('Other', 15, 604.3000000000038, 5.7552380952381315, 40.286666666666925)]"
      ]
     },
     "execution_count": 13,
     "metadata": {},
     "output_type": "execute_result"
    }
   ],
   "source": [
    "%%sql\n",
    "\n",
    "WITH country_or_other AS\n",
    "    (\n",
    "     SELECT\n",
    "       CASE\n",
    "           WHEN (\n",
    "                 SELECT count(*)\n",
    "                 FROM Customer\n",
    "                 where Country = c.Country\n",
    "                ) = 1 THEN \"Other\"\n",
    "           ELSE c.Country\n",
    "       END AS country,\n",
    "       c.CustomerId,\n",
    "       il.*\n",
    "     FROM InvoiceLine il\n",
    "     INNER JOIN Invoice i ON i.InvoiceId = il.InvoiceId\n",
    "     INNER JOIN Customer c ON c.CustomerId = i.CustomerId\n",
    "    )\n",
    "    \n",
    "SELECT\n",
    "    country,\n",
    "    customers,\n",
    "    total_sales,\n",
    "    average_order,\n",
    "    customer_lifetime_value\n",
    "FROM\n",
    "    (\n",
    "    SELECT\n",
    "        country,\n",
    "        count(distinct CustomerId) customers,\n",
    "        SUM(UnitPrice) total_sales,\n",
    "        SUM(UnitPrice) / count(distinct CustomerId) customer_lifetime_value,\n",
    "        SUM(UnitPrice) / count(distinct InvoiceId) average_order,\n",
    "        CASE\n",
    "            WHEN country = \"Other\" THEN 1\n",
    "            ELSE 0\n",
    "        END AS sort\n",
    "    FROM country_or_other\n",
    "    GROUP BY country\n",
    "    ORDER BY sort ASC, total_sales DESC\n",
    "    );    "
   ]
  },
  {
   "cell_type": "markdown",
   "metadata": {},
   "source": [
    "Based on the data, there may be opportunity in the following countries:\n",
    "\n",
    "- Czech Republic\n",
    "- United Kingdom\n",
    "- India\n",
    "\n",
    "It's worth keeping in mind that because the amount of data from each of these countries is relatively low. Because of this, we should be cautious spending too much money on new marketing campaigns, as the sample size is not large enough to give us high confidence. A better approach would be to run small campaigns in these countries, collecting and analyzing the new customers to make sure that these trends hold with new customers.\n",
    "\n",
    "## Albums vs Individual Tracks"
   ]
  },
  {
   "cell_type": "markdown",
   "metadata": {},
   "source": [
    "Write a query that categorizes each invoice as either an album purchase or not, and calculates the following summary statistics:\n",
    "\n",
    "- Number of invoices\n",
    "- Percentage of invoices"
   ]
  },
  {
   "cell_type": "code",
   "execution_count": 15,
   "metadata": {},
   "outputs": [
    {
     "name": "stdout",
     "output_type": "stream",
     "text": [
      " * sqlite:///chinook.db\n",
      "Done.\n"
     ]
    },
    {
     "data": {
      "text/html": [
       "<table>\n",
       "    <tr>\n",
       "        <th>album_purchase</th>\n",
       "        <th>number_of_invoices</th>\n",
       "        <th>percent</th>\n",
       "    </tr>\n",
       "    <tr>\n",
       "        <td>no</td>\n",
       "        <td>410</td>\n",
       "        <td>0.9951456310679612</td>\n",
       "    </tr>\n",
       "    <tr>\n",
       "        <td>yes</td>\n",
       "        <td>2</td>\n",
       "        <td>0.0048543689320388345</td>\n",
       "    </tr>\n",
       "</table>"
      ],
      "text/plain": [
       "[('no', 410, 0.9951456310679612), ('yes', 2, 0.0048543689320388345)]"
      ]
     },
     "execution_count": 15,
     "metadata": {},
     "output_type": "execute_result"
    }
   ],
   "source": [
    "%%sql\n",
    "\n",
    "WITH invoice_first_track AS\n",
    "    (\n",
    "     SELECT\n",
    "         il.InvoiceId InvoiceId,\n",
    "         MIN(il.TrackId) first_track_id\n",
    "     FROM InvoiceLine il\n",
    "     GROUP BY 1\n",
    "    )\n",
    "SELECT\n",
    "    album_purchase,\n",
    "    COUNT(InvoiceId) number_of_invoices,\n",
    "    CAST(count(InvoiceId) AS FLOAT) / (\n",
    "                                         SELECT COUNT(*) FROM Invoice\n",
    "                                      ) percent  \n",
    "FROM\n",
    "    (\n",
    "    SELECT\n",
    "        ifs.*,\n",
    "        CASE\n",
    "            WHEN\n",
    "                 (\n",
    "                  SELECT t.TrackId FROM Track t\n",
    "                  WHERE t.AlbumId = (\n",
    "                                      SELECT t2.AlbumId FROM Track t2\n",
    "                                      WHERE t2.TrackId = ifs.first_track_id\n",
    "                                     ) \n",
    "\n",
    "                  EXCEPT \n",
    "\n",
    "                  SELECT il2.TrackId FROM InvoiceLine il2\n",
    "                  WHERE il2.InvoiceId = ifs.InvoiceId\n",
    "                 ) IS NULL\n",
    "             AND\n",
    "                 (\n",
    "                  SELECT il2.TrackId FROM InvoiceLine il2\n",
    "                  WHERE il2.InvoiceId = ifs.InvoiceId\n",
    "\n",
    "                  EXCEPT \n",
    "\n",
    "                  SELECT t.TrackId FROM Track t\n",
    "                  WHERE t.AlbumId = (\n",
    "                                      SELECT t2.AlbumId FROM Track t2\n",
    "                                      WHERE t2.trackId = ifs.first_track_id\n",
    "                                     ) \n",
    "                 ) IS NULL\n",
    "             THEN \"yes\"\n",
    "             ELSE \"no\"\n",
    "         END AS \"album_purchase\"\n",
    "     FROM invoice_first_track ifs\n",
    "    )\n",
    "GROUP BY album_purchase;    "
   ]
  },
  {
   "cell_type": "code",
   "execution_count": null,
   "metadata": {},
   "outputs": [],
   "source": []
  }
 ],
 "metadata": {
  "kernelspec": {
   "display_name": "Python 3",
   "language": "python",
   "name": "python3"
  },
  "language_info": {
   "codemirror_mode": {
    "name": "ipython",
    "version": 3
   },
   "file_extension": ".py",
   "mimetype": "text/x-python",
   "name": "python",
   "nbconvert_exporter": "python",
   "pygments_lexer": "ipython3",
   "version": "3.8.3"
  }
 },
 "nbformat": 4,
 "nbformat_minor": 4
}
