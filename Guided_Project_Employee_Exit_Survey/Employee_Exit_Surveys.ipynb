{
 "cells": [
  {
   "cell_type": "markdown",
   "metadata": {},
   "source": [
    "## Clean And Analyze Employee Exit Surveys"
   ]
  },
  {
   "cell_type": "markdown",
   "metadata": {},
   "source": [
    "This project will look at datasets from the Department of Education, Training and Employment (DETE) and the Technical and Further Education (TAFE) in Queensland, Australia. We will seek to discover reasons for resignation from these datasets, which are exit surveys. Specifically, comparing dissatisfaction between short-term and long-term employment, and younger and older employees."
   ]
  },
  {
   "cell_type": "code",
   "execution_count": 1,
   "metadata": {},
   "outputs": [],
   "source": [
    "import pandas as pd\n",
    "import numpy as np\n",
    "import matplotlib.pyplot as plt\n",
    "%matplotlib inline\n",
    "dete_survey = pd.read_csv('dete-exit-survey-january-2014.csv')\n",
    "tafe_survey = pd.read_csv('tafe-employee-exit-survey.csv')\n",
    "import warnings\n",
    "warnings.filterwarnings('ignore')"
   ]
  },
  {
   "cell_type": "markdown",
   "metadata": {},
   "source": [
    "The datasets are available in public domain also, I have provided the link below\n",
    "\n",
    "TAFE - https://data.gov.au/dataset/ds-qld-89970a3b-182b-41ea-aea2-6f9f17b5907e/details?q=exit%20survey\n",
    "\n",
    "DETE - https://data.gov.au/dataset/ds-qld-fe96ff30-d157-4a81-851d-215f2a0fe26d/details?q=exit%20survey"
   ]
  },
  {
   "cell_type": "code",
   "execution_count": 2,
   "metadata": {},
   "outputs": [
    {
     "name": "stdout",
     "output_type": "stream",
     "text": [
      "<class 'pandas.core.frame.DataFrame'>\n",
      "RangeIndex: 822 entries, 0 to 821\n",
      "Data columns (total 56 columns):\n",
      " #   Column                               Non-Null Count  Dtype \n",
      "---  ------                               --------------  ----- \n",
      " 0   ID                                   822 non-null    int64 \n",
      " 1   SeparationType                       822 non-null    object\n",
      " 2   Cease Date                           822 non-null    object\n",
      " 3   DETE Start Date                      822 non-null    object\n",
      " 4   Role Start Date                      822 non-null    object\n",
      " 5   Position                             817 non-null    object\n",
      " 6   Classification                       455 non-null    object\n",
      " 7   Region                               822 non-null    object\n",
      " 8   Business Unit                        126 non-null    object\n",
      " 9   Employment Status                    817 non-null    object\n",
      " 10  Career move to public sector         822 non-null    bool  \n",
      " 11  Career move to private sector        822 non-null    bool  \n",
      " 12  Interpersonal conflicts              822 non-null    bool  \n",
      " 13  Job dissatisfaction                  822 non-null    bool  \n",
      " 14  Dissatisfaction with the department  822 non-null    bool  \n",
      " 15  Physical work environment            822 non-null    bool  \n",
      " 16  Lack of recognition                  822 non-null    bool  \n",
      " 17  Lack of job security                 822 non-null    bool  \n",
      " 18  Work location                        822 non-null    bool  \n",
      " 19  Employment conditions                822 non-null    bool  \n",
      " 20  Maternity/family                     822 non-null    bool  \n",
      " 21  Relocation                           822 non-null    bool  \n",
      " 22  Study/Travel                         822 non-null    bool  \n",
      " 23  Ill Health                           822 non-null    bool  \n",
      " 24  Traumatic incident                   822 non-null    bool  \n",
      " 25  Work life balance                    822 non-null    bool  \n",
      " 26  Workload                             822 non-null    bool  \n",
      " 27  None of the above                    822 non-null    bool  \n",
      " 28  Professional Development             808 non-null    object\n",
      " 29  Opportunities for promotion          735 non-null    object\n",
      " 30  Staff morale                         816 non-null    object\n",
      " 31  Workplace issue                      788 non-null    object\n",
      " 32  Physical environment                 817 non-null    object\n",
      " 33  Worklife balance                     815 non-null    object\n",
      " 34  Stress and pressure support          810 non-null    object\n",
      " 35  Performance of supervisor            813 non-null    object\n",
      " 36  Peer support                         812 non-null    object\n",
      " 37  Initiative                           813 non-null    object\n",
      " 38  Skills                               811 non-null    object\n",
      " 39  Coach                                767 non-null    object\n",
      " 40  Career Aspirations                   746 non-null    object\n",
      " 41  Feedback                             792 non-null    object\n",
      " 42  Further PD                           768 non-null    object\n",
      " 43  Communication                        814 non-null    object\n",
      " 44  My say                               812 non-null    object\n",
      " 45  Information                          816 non-null    object\n",
      " 46  Kept informed                        813 non-null    object\n",
      " 47  Wellness programs                    766 non-null    object\n",
      " 48  Health & Safety                      793 non-null    object\n",
      " 49  Gender                               798 non-null    object\n",
      " 50  Age                                  811 non-null    object\n",
      " 51  Aboriginal                           16 non-null     object\n",
      " 52  Torres Strait                        3 non-null      object\n",
      " 53  South Sea                            7 non-null      object\n",
      " 54  Disability                           23 non-null     object\n",
      " 55  NESB                                 32 non-null     object\n",
      "dtypes: bool(18), int64(1), object(37)\n",
      "memory usage: 258.6+ KB\n"
     ]
    },
    {
     "data": {
      "text/html": [
       "<div>\n",
       "<style scoped>\n",
       "    .dataframe tbody tr th:only-of-type {\n",
       "        vertical-align: middle;\n",
       "    }\n",
       "\n",
       "    .dataframe tbody tr th {\n",
       "        vertical-align: top;\n",
       "    }\n",
       "\n",
       "    .dataframe thead th {\n",
       "        text-align: right;\n",
       "    }\n",
       "</style>\n",
       "<table border=\"1\" class=\"dataframe\">\n",
       "  <thead>\n",
       "    <tr style=\"text-align: right;\">\n",
       "      <th></th>\n",
       "      <th>ID</th>\n",
       "      <th>SeparationType</th>\n",
       "      <th>Cease Date</th>\n",
       "      <th>DETE Start Date</th>\n",
       "      <th>Role Start Date</th>\n",
       "      <th>Position</th>\n",
       "      <th>Classification</th>\n",
       "      <th>Region</th>\n",
       "      <th>Business Unit</th>\n",
       "      <th>Employment Status</th>\n",
       "      <th>...</th>\n",
       "      <th>Kept informed</th>\n",
       "      <th>Wellness programs</th>\n",
       "      <th>Health &amp; Safety</th>\n",
       "      <th>Gender</th>\n",
       "      <th>Age</th>\n",
       "      <th>Aboriginal</th>\n",
       "      <th>Torres Strait</th>\n",
       "      <th>South Sea</th>\n",
       "      <th>Disability</th>\n",
       "      <th>NESB</th>\n",
       "    </tr>\n",
       "  </thead>\n",
       "  <tbody>\n",
       "    <tr>\n",
       "      <th>0</th>\n",
       "      <td>1</td>\n",
       "      <td>Ill Health Retirement</td>\n",
       "      <td>08/2012</td>\n",
       "      <td>1984</td>\n",
       "      <td>2004</td>\n",
       "      <td>Public Servant</td>\n",
       "      <td>A01-A04</td>\n",
       "      <td>Central Office</td>\n",
       "      <td>Corporate Strategy and Peformance</td>\n",
       "      <td>Permanent Full-time</td>\n",
       "      <td>...</td>\n",
       "      <td>N</td>\n",
       "      <td>N</td>\n",
       "      <td>N</td>\n",
       "      <td>Male</td>\n",
       "      <td>56-60</td>\n",
       "      <td>NaN</td>\n",
       "      <td>NaN</td>\n",
       "      <td>NaN</td>\n",
       "      <td>NaN</td>\n",
       "      <td>Yes</td>\n",
       "    </tr>\n",
       "    <tr>\n",
       "      <th>1</th>\n",
       "      <td>2</td>\n",
       "      <td>Voluntary Early Retirement (VER)</td>\n",
       "      <td>08/2012</td>\n",
       "      <td>Not Stated</td>\n",
       "      <td>Not Stated</td>\n",
       "      <td>Public Servant</td>\n",
       "      <td>AO5-AO7</td>\n",
       "      <td>Central Office</td>\n",
       "      <td>Corporate Strategy and Peformance</td>\n",
       "      <td>Permanent Full-time</td>\n",
       "      <td>...</td>\n",
       "      <td>N</td>\n",
       "      <td>N</td>\n",
       "      <td>N</td>\n",
       "      <td>Male</td>\n",
       "      <td>56-60</td>\n",
       "      <td>NaN</td>\n",
       "      <td>NaN</td>\n",
       "      <td>NaN</td>\n",
       "      <td>NaN</td>\n",
       "      <td>NaN</td>\n",
       "    </tr>\n",
       "    <tr>\n",
       "      <th>2</th>\n",
       "      <td>3</td>\n",
       "      <td>Voluntary Early Retirement (VER)</td>\n",
       "      <td>05/2012</td>\n",
       "      <td>2011</td>\n",
       "      <td>2011</td>\n",
       "      <td>Schools Officer</td>\n",
       "      <td>NaN</td>\n",
       "      <td>Central Office</td>\n",
       "      <td>Education Queensland</td>\n",
       "      <td>Permanent Full-time</td>\n",
       "      <td>...</td>\n",
       "      <td>N</td>\n",
       "      <td>N</td>\n",
       "      <td>N</td>\n",
       "      <td>Male</td>\n",
       "      <td>61 or older</td>\n",
       "      <td>NaN</td>\n",
       "      <td>NaN</td>\n",
       "      <td>NaN</td>\n",
       "      <td>NaN</td>\n",
       "      <td>NaN</td>\n",
       "    </tr>\n",
       "    <tr>\n",
       "      <th>3</th>\n",
       "      <td>4</td>\n",
       "      <td>Resignation-Other reasons</td>\n",
       "      <td>05/2012</td>\n",
       "      <td>2005</td>\n",
       "      <td>2006</td>\n",
       "      <td>Teacher</td>\n",
       "      <td>Primary</td>\n",
       "      <td>Central Queensland</td>\n",
       "      <td>NaN</td>\n",
       "      <td>Permanent Full-time</td>\n",
       "      <td>...</td>\n",
       "      <td>A</td>\n",
       "      <td>N</td>\n",
       "      <td>A</td>\n",
       "      <td>Female</td>\n",
       "      <td>36-40</td>\n",
       "      <td>NaN</td>\n",
       "      <td>NaN</td>\n",
       "      <td>NaN</td>\n",
       "      <td>NaN</td>\n",
       "      <td>NaN</td>\n",
       "    </tr>\n",
       "    <tr>\n",
       "      <th>4</th>\n",
       "      <td>5</td>\n",
       "      <td>Age Retirement</td>\n",
       "      <td>05/2012</td>\n",
       "      <td>1970</td>\n",
       "      <td>1989</td>\n",
       "      <td>Head of Curriculum/Head of Special Education</td>\n",
       "      <td>NaN</td>\n",
       "      <td>South East</td>\n",
       "      <td>NaN</td>\n",
       "      <td>Permanent Full-time</td>\n",
       "      <td>...</td>\n",
       "      <td>N</td>\n",
       "      <td>A</td>\n",
       "      <td>M</td>\n",
       "      <td>Female</td>\n",
       "      <td>61 or older</td>\n",
       "      <td>NaN</td>\n",
       "      <td>NaN</td>\n",
       "      <td>NaN</td>\n",
       "      <td>NaN</td>\n",
       "      <td>NaN</td>\n",
       "    </tr>\n",
       "  </tbody>\n",
       "</table>\n",
       "<p>5 rows × 56 columns</p>\n",
       "</div>"
      ],
      "text/plain": [
       "   ID                    SeparationType Cease Date DETE Start Date  \\\n",
       "0   1             Ill Health Retirement    08/2012            1984   \n",
       "1   2  Voluntary Early Retirement (VER)    08/2012      Not Stated   \n",
       "2   3  Voluntary Early Retirement (VER)    05/2012            2011   \n",
       "3   4         Resignation-Other reasons    05/2012            2005   \n",
       "4   5                    Age Retirement    05/2012            1970   \n",
       "\n",
       "  Role Start Date                                      Position  \\\n",
       "0            2004                                Public Servant   \n",
       "1      Not Stated                                Public Servant   \n",
       "2            2011                               Schools Officer   \n",
       "3            2006                                       Teacher   \n",
       "4            1989  Head of Curriculum/Head of Special Education   \n",
       "\n",
       "  Classification              Region                      Business Unit  \\\n",
       "0        A01-A04      Central Office  Corporate Strategy and Peformance   \n",
       "1        AO5-AO7      Central Office  Corporate Strategy and Peformance   \n",
       "2            NaN      Central Office               Education Queensland   \n",
       "3        Primary  Central Queensland                                NaN   \n",
       "4            NaN          South East                                NaN   \n",
       "\n",
       "     Employment Status  ...  Kept informed  Wellness programs  \\\n",
       "0  Permanent Full-time  ...              N                  N   \n",
       "1  Permanent Full-time  ...              N                  N   \n",
       "2  Permanent Full-time  ...              N                  N   \n",
       "3  Permanent Full-time  ...              A                  N   \n",
       "4  Permanent Full-time  ...              N                  A   \n",
       "\n",
       "   Health & Safety  Gender          Age  Aboriginal  Torres Strait  South Sea  \\\n",
       "0                N    Male        56-60         NaN            NaN        NaN   \n",
       "1                N    Male        56-60         NaN            NaN        NaN   \n",
       "2                N    Male  61 or older         NaN            NaN        NaN   \n",
       "3                A  Female        36-40         NaN            NaN        NaN   \n",
       "4                M  Female  61 or older         NaN            NaN        NaN   \n",
       "\n",
       "   Disability  NESB  \n",
       "0         NaN   Yes  \n",
       "1         NaN   NaN  \n",
       "2         NaN   NaN  \n",
       "3         NaN   NaN  \n",
       "4         NaN   NaN  \n",
       "\n",
       "[5 rows x 56 columns]"
      ]
     },
     "execution_count": 2,
     "metadata": {},
     "output_type": "execute_result"
    }
   ],
   "source": [
    "dete_survey.info()\n",
    "dete_survey.head()"
   ]
  },
  {
   "cell_type": "code",
   "execution_count": 3,
   "metadata": {},
   "outputs": [
    {
     "name": "stdout",
     "output_type": "stream",
     "text": [
      "<class 'pandas.core.frame.DataFrame'>\n",
      "RangeIndex: 702 entries, 0 to 701\n",
      "Data columns (total 72 columns):\n",
      " #   Column                                                                                                                                                         Non-Null Count  Dtype  \n",
      "---  ------                                                                                                                                                         --------------  -----  \n",
      " 0   Record ID                                                                                                                                                      702 non-null    int64  \n",
      " 1   Institute                                                                                                                                                      702 non-null    object \n",
      " 2   WorkArea                                                                                                                                                       702 non-null    object \n",
      " 3   CESSATION YEAR                                                                                                                                                 695 non-null    float64\n",
      " 4   Reason for ceasing employment                                                                                                                                  701 non-null    object \n",
      " 5   Contributing Factors. Career Move - Public Sector                                                                                                              437 non-null    object \n",
      " 6   Contributing Factors. Career Move - Private Sector                                                                                                             437 non-null    object \n",
      " 7   Contributing Factors. Career Move - Self-employment                                                                                                            437 non-null    object \n",
      " 8   Contributing Factors. Ill Health                                                                                                                               437 non-null    object \n",
      " 9   Contributing Factors. Maternity/Family                                                                                                                         437 non-null    object \n",
      " 10  Contributing Factors. Dissatisfaction                                                                                                                          437 non-null    object \n",
      " 11  Contributing Factors. Job Dissatisfaction                                                                                                                      437 non-null    object \n",
      " 12  Contributing Factors. Interpersonal Conflict                                                                                                                   437 non-null    object \n",
      " 13  Contributing Factors. Study                                                                                                                                    437 non-null    object \n",
      " 14  Contributing Factors. Travel                                                                                                                                   437 non-null    object \n",
      " 15  Contributing Factors. Other                                                                                                                                    437 non-null    object \n",
      " 16  Contributing Factors. NONE                                                                                                                                     437 non-null    object \n",
      " 17  Main Factor.     Which of these was the main factor for leaving?                                                                                               113 non-null    object \n",
      " 18  InstituteViews. Topic:1. I feel the senior leadership had a clear vision and direction                                                                         608 non-null    object \n",
      " 19  InstituteViews. Topic:2. I was given access to skills training to help me do my job better                                                                     613 non-null    object \n",
      " 20  InstituteViews. Topic:3. I was given adequate opportunities for personal development                                                                           610 non-null    object \n",
      " 21  InstituteViews. Topic:4. I was given adequate opportunities for promotion within %Institute]Q25LBL%                                                            608 non-null    object \n",
      " 22  InstituteViews. Topic:5. I felt the salary for the job was right for the responsibilities I had                                                                615 non-null    object \n",
      " 23  InstituteViews. Topic:6. The organisation recognised when staff did good work                                                                                  607 non-null    object \n",
      " 24  InstituteViews. Topic:7. Management was generally supportive of me                                                                                             614 non-null    object \n",
      " 25  InstituteViews. Topic:8. Management was generally supportive of my team                                                                                        608 non-null    object \n",
      " 26  InstituteViews. Topic:9. I was kept informed of the changes in the organisation which would affect me                                                          610 non-null    object \n",
      " 27  InstituteViews. Topic:10. Staff morale was positive within the Institute                                                                                       602 non-null    object \n",
      " 28  InstituteViews. Topic:11. If I had a workplace issue it was dealt with quickly                                                                                 601 non-null    object \n",
      " 29  InstituteViews. Topic:12. If I had a workplace issue it was dealt with efficiently                                                                             597 non-null    object \n",
      " 30  InstituteViews. Topic:13. If I had a workplace issue it was dealt with discreetly                                                                              601 non-null    object \n",
      " 31  WorkUnitViews. Topic:14. I was satisfied with the quality of the management and supervision within my work unit                                                609 non-null    object \n",
      " 32  WorkUnitViews. Topic:15. I worked well with my colleagues                                                                                                      605 non-null    object \n",
      " 33  WorkUnitViews. Topic:16. My job was challenging and interesting                                                                                                607 non-null    object \n",
      " 34  WorkUnitViews. Topic:17. I was encouraged to use my initiative in the course of my work                                                                        610 non-null    object \n",
      " 35  WorkUnitViews. Topic:18. I had sufficient contact with other people in my job                                                                                  613 non-null    object \n",
      " 36  WorkUnitViews. Topic:19. I was given adequate support and co-operation by my peers to enable me to do my job                                                   609 non-null    object \n",
      " 37  WorkUnitViews. Topic:20. I was able to use the full range of my skills in my job                                                                               609 non-null    object \n",
      " 38  WorkUnitViews. Topic:21. I was able to use the full range of my abilities in my job. ; Category:Level of Agreement; Question:YOUR VIEWS ABOUT YOUR WORK UNIT]  608 non-null    object \n",
      " 39  WorkUnitViews. Topic:22. I was able to use the full range of my knowledge in my job                                                                            608 non-null    object \n",
      " 40  WorkUnitViews. Topic:23. My job provided sufficient variety                                                                                                    611 non-null    object \n",
      " 41  WorkUnitViews. Topic:24. I was able to cope with the level of stress and pressure in my job                                                                    610 non-null    object \n",
      " 42  WorkUnitViews. Topic:25. My job allowed me to balance the demands of work and family to my satisfaction                                                        611 non-null    object \n",
      " 43  WorkUnitViews. Topic:26. My supervisor gave me adequate personal recognition and feedback on my performance                                                    606 non-null    object \n",
      " 44  WorkUnitViews. Topic:27. My working environment was satisfactory e.g. sufficient space, good lighting, suitable seating and working area                       610 non-null    object \n",
      " 45  WorkUnitViews. Topic:28. I was given the opportunity to mentor and coach others in order for me to pass on my skills and knowledge prior to my cessation date  609 non-null    object \n",
      " 46  WorkUnitViews. Topic:29. There was adequate communication between staff in my unit                                                                             603 non-null    object \n",
      " 47  WorkUnitViews. Topic:30. Staff morale was positive within my work unit                                                                                         606 non-null    object \n",
      " 48  Induction. Did you undertake Workplace Induction?                                                                                                              619 non-null    object \n",
      " 49  InductionInfo. Topic:Did you undertake a Corporate Induction?                                                                                                  432 non-null    object \n",
      " 50  InductionInfo. Topic:Did you undertake a Institute Induction?                                                                                                  483 non-null    object \n",
      " 51  InductionInfo. Topic: Did you undertake Team Induction?                                                                                                        440 non-null    object \n",
      " 52  InductionInfo. Face to Face Topic:Did you undertake a Corporate Induction; Category:How it was conducted?                                                      555 non-null    object \n",
      " 53  InductionInfo. On-line Topic:Did you undertake a Corporate Induction; Category:How it was conducted?                                                           555 non-null    object \n",
      " 54  InductionInfo. Induction Manual Topic:Did you undertake a Corporate Induction?                                                                                 555 non-null    object \n",
      " 55  InductionInfo. Face to Face Topic:Did you undertake a Institute Induction?                                                                                     530 non-null    object \n",
      " 56  InductionInfo. On-line Topic:Did you undertake a Institute Induction?                                                                                          555 non-null    object \n",
      " 57  InductionInfo. Induction Manual Topic:Did you undertake a Institute Induction?                                                                                 553 non-null    object \n",
      " 58  InductionInfo. Face to Face Topic: Did you undertake Team Induction; Category?                                                                                 555 non-null    object \n",
      " 59  InductionInfo. On-line Topic: Did you undertake Team Induction?process you undertook and how it was conducted.]                                                555 non-null    object \n",
      " 60  InductionInfo. Induction Manual Topic: Did you undertake Team Induction?                                                                                       555 non-null    object \n",
      " 61  Workplace. Topic:Did you and your Manager develop a Performance and Professional Development Plan (PPDP)?                                                      608 non-null    object \n",
      " 62  Workplace. Topic:Does your workplace promote a work culture free from all forms of unlawful discrimination?                                                    594 non-null    object \n",
      " 63  Workplace. Topic:Does your workplace promote and practice the principles of employment equity?                                                                 587 non-null    object \n",
      " 64  Workplace. Topic:Does your workplace value the diversity of its employees?                                                                                     586 non-null    object \n",
      " 65  Workplace. Topic:Would you recommend the Institute as an employer to others?                                                                                   581 non-null    object \n",
      " 66  Gender.     What is your Gender?                                                                                                                               596 non-null    object \n",
      " 67  CurrentAge.     Current Age                                                                                                                                    596 non-null    object \n",
      " 68  Employment Type.     Employment Type                                                                                                                           596 non-null    object \n",
      " 69  Classification.     Classification                                                                                                                             596 non-null    object \n",
      " 70  LengthofServiceOverall. Overall Length of Service at Institute (in years)                                                                                      596 non-null    object \n",
      " 71  LengthofServiceCurrent. Length of Service at current workplace (in years)                                                                                      596 non-null    object \n",
      "dtypes: float64(1), int64(1), object(70)\n",
      "memory usage: 395.0+ KB\n"
     ]
    },
    {
     "data": {
      "text/html": [
       "<div>\n",
       "<style scoped>\n",
       "    .dataframe tbody tr th:only-of-type {\n",
       "        vertical-align: middle;\n",
       "    }\n",
       "\n",
       "    .dataframe tbody tr th {\n",
       "        vertical-align: top;\n",
       "    }\n",
       "\n",
       "    .dataframe thead th {\n",
       "        text-align: right;\n",
       "    }\n",
       "</style>\n",
       "<table border=\"1\" class=\"dataframe\">\n",
       "  <thead>\n",
       "    <tr style=\"text-align: right;\">\n",
       "      <th></th>\n",
       "      <th>Record ID</th>\n",
       "      <th>Institute</th>\n",
       "      <th>WorkArea</th>\n",
       "      <th>CESSATION YEAR</th>\n",
       "      <th>Reason for ceasing employment</th>\n",
       "      <th>Contributing Factors. Career Move - Public Sector</th>\n",
       "      <th>Contributing Factors. Career Move - Private Sector</th>\n",
       "      <th>Contributing Factors. Career Move - Self-employment</th>\n",
       "      <th>Contributing Factors. Ill Health</th>\n",
       "      <th>Contributing Factors. Maternity/Family</th>\n",
       "      <th>...</th>\n",
       "      <th>Workplace. Topic:Does your workplace promote a work culture free from all forms of unlawful discrimination?</th>\n",
       "      <th>Workplace. Topic:Does your workplace promote and practice the principles of employment equity?</th>\n",
       "      <th>Workplace. Topic:Does your workplace value the diversity of its employees?</th>\n",
       "      <th>Workplace. Topic:Would you recommend the Institute as an employer to others?</th>\n",
       "      <th>Gender.     What is your Gender?</th>\n",
       "      <th>CurrentAge.     Current Age</th>\n",
       "      <th>Employment Type.     Employment Type</th>\n",
       "      <th>Classification.     Classification</th>\n",
       "      <th>LengthofServiceOverall. Overall Length of Service at Institute (in years)</th>\n",
       "      <th>LengthofServiceCurrent. Length of Service at current workplace (in years)</th>\n",
       "    </tr>\n",
       "  </thead>\n",
       "  <tbody>\n",
       "    <tr>\n",
       "      <th>0</th>\n",
       "      <td>634133009996094000</td>\n",
       "      <td>Southern Queensland Institute of TAFE</td>\n",
       "      <td>Non-Delivery (corporate)</td>\n",
       "      <td>2010.0</td>\n",
       "      <td>Contract Expired</td>\n",
       "      <td>NaN</td>\n",
       "      <td>NaN</td>\n",
       "      <td>NaN</td>\n",
       "      <td>NaN</td>\n",
       "      <td>NaN</td>\n",
       "      <td>...</td>\n",
       "      <td>Yes</td>\n",
       "      <td>Yes</td>\n",
       "      <td>Yes</td>\n",
       "      <td>Yes</td>\n",
       "      <td>Female</td>\n",
       "      <td>26 – 30</td>\n",
       "      <td>Temporary Full-time</td>\n",
       "      <td>Administration (AO)</td>\n",
       "      <td>1-2</td>\n",
       "      <td>1-2</td>\n",
       "    </tr>\n",
       "    <tr>\n",
       "      <th>1</th>\n",
       "      <td>634133654064531000</td>\n",
       "      <td>Mount Isa Institute of TAFE</td>\n",
       "      <td>Non-Delivery (corporate)</td>\n",
       "      <td>2010.0</td>\n",
       "      <td>Retirement</td>\n",
       "      <td>-</td>\n",
       "      <td>-</td>\n",
       "      <td>-</td>\n",
       "      <td>-</td>\n",
       "      <td>-</td>\n",
       "      <td>...</td>\n",
       "      <td>Yes</td>\n",
       "      <td>Yes</td>\n",
       "      <td>Yes</td>\n",
       "      <td>Yes</td>\n",
       "      <td>NaN</td>\n",
       "      <td>NaN</td>\n",
       "      <td>NaN</td>\n",
       "      <td>NaN</td>\n",
       "      <td>NaN</td>\n",
       "      <td>NaN</td>\n",
       "    </tr>\n",
       "    <tr>\n",
       "      <th>2</th>\n",
       "      <td>634138845606563000</td>\n",
       "      <td>Mount Isa Institute of TAFE</td>\n",
       "      <td>Delivery (teaching)</td>\n",
       "      <td>2010.0</td>\n",
       "      <td>Retirement</td>\n",
       "      <td>-</td>\n",
       "      <td>-</td>\n",
       "      <td>-</td>\n",
       "      <td>-</td>\n",
       "      <td>-</td>\n",
       "      <td>...</td>\n",
       "      <td>Yes</td>\n",
       "      <td>Yes</td>\n",
       "      <td>Yes</td>\n",
       "      <td>Yes</td>\n",
       "      <td>NaN</td>\n",
       "      <td>NaN</td>\n",
       "      <td>NaN</td>\n",
       "      <td>NaN</td>\n",
       "      <td>NaN</td>\n",
       "      <td>NaN</td>\n",
       "    </tr>\n",
       "    <tr>\n",
       "      <th>3</th>\n",
       "      <td>634139903350000000</td>\n",
       "      <td>Mount Isa Institute of TAFE</td>\n",
       "      <td>Non-Delivery (corporate)</td>\n",
       "      <td>2010.0</td>\n",
       "      <td>Resignation</td>\n",
       "      <td>-</td>\n",
       "      <td>-</td>\n",
       "      <td>-</td>\n",
       "      <td>-</td>\n",
       "      <td>-</td>\n",
       "      <td>...</td>\n",
       "      <td>Yes</td>\n",
       "      <td>Yes</td>\n",
       "      <td>Yes</td>\n",
       "      <td>Yes</td>\n",
       "      <td>NaN</td>\n",
       "      <td>NaN</td>\n",
       "      <td>NaN</td>\n",
       "      <td>NaN</td>\n",
       "      <td>NaN</td>\n",
       "      <td>NaN</td>\n",
       "    </tr>\n",
       "    <tr>\n",
       "      <th>4</th>\n",
       "      <td>634146578511788000</td>\n",
       "      <td>Southern Queensland Institute of TAFE</td>\n",
       "      <td>Delivery (teaching)</td>\n",
       "      <td>2010.0</td>\n",
       "      <td>Resignation</td>\n",
       "      <td>-</td>\n",
       "      <td>Career Move - Private Sector</td>\n",
       "      <td>-</td>\n",
       "      <td>-</td>\n",
       "      <td>-</td>\n",
       "      <td>...</td>\n",
       "      <td>Yes</td>\n",
       "      <td>Yes</td>\n",
       "      <td>Yes</td>\n",
       "      <td>Yes</td>\n",
       "      <td>Male</td>\n",
       "      <td>41 – 45</td>\n",
       "      <td>Permanent Full-time</td>\n",
       "      <td>Teacher (including LVT)</td>\n",
       "      <td>3-4</td>\n",
       "      <td>3-4</td>\n",
       "    </tr>\n",
       "  </tbody>\n",
       "</table>\n",
       "<p>5 rows × 72 columns</p>\n",
       "</div>"
      ],
      "text/plain": [
       "            Record ID                              Institute  \\\n",
       "0  634133009996094000  Southern Queensland Institute of TAFE   \n",
       "1  634133654064531000            Mount Isa Institute of TAFE   \n",
       "2  634138845606563000            Mount Isa Institute of TAFE   \n",
       "3  634139903350000000            Mount Isa Institute of TAFE   \n",
       "4  634146578511788000  Southern Queensland Institute of TAFE   \n",
       "\n",
       "                   WorkArea  CESSATION YEAR Reason for ceasing employment  \\\n",
       "0  Non-Delivery (corporate)          2010.0              Contract Expired   \n",
       "1  Non-Delivery (corporate)          2010.0                    Retirement   \n",
       "2       Delivery (teaching)          2010.0                    Retirement   \n",
       "3  Non-Delivery (corporate)          2010.0                   Resignation   \n",
       "4       Delivery (teaching)          2010.0                   Resignation   \n",
       "\n",
       "  Contributing Factors. Career Move - Public Sector   \\\n",
       "0                                                NaN   \n",
       "1                                                  -   \n",
       "2                                                  -   \n",
       "3                                                  -   \n",
       "4                                                  -   \n",
       "\n",
       "  Contributing Factors. Career Move - Private Sector   \\\n",
       "0                                                NaN    \n",
       "1                                                  -    \n",
       "2                                                  -    \n",
       "3                                                  -    \n",
       "4                       Career Move - Private Sector    \n",
       "\n",
       "  Contributing Factors. Career Move - Self-employment  \\\n",
       "0                                                NaN    \n",
       "1                                                  -    \n",
       "2                                                  -    \n",
       "3                                                  -    \n",
       "4                                                  -    \n",
       "\n",
       "  Contributing Factors. Ill Health Contributing Factors. Maternity/Family  \\\n",
       "0                              NaN                                    NaN   \n",
       "1                                -                                      -   \n",
       "2                                -                                      -   \n",
       "3                                -                                      -   \n",
       "4                                -                                      -   \n",
       "\n",
       "   ...  \\\n",
       "0  ...   \n",
       "1  ...   \n",
       "2  ...   \n",
       "3  ...   \n",
       "4  ...   \n",
       "\n",
       "  Workplace. Topic:Does your workplace promote a work culture free from all forms of unlawful discrimination?  \\\n",
       "0                                                Yes                                                            \n",
       "1                                                Yes                                                            \n",
       "2                                                Yes                                                            \n",
       "3                                                Yes                                                            \n",
       "4                                                Yes                                                            \n",
       "\n",
       "  Workplace. Topic:Does your workplace promote and practice the principles of employment equity?  \\\n",
       "0                                                Yes                                               \n",
       "1                                                Yes                                               \n",
       "2                                                Yes                                               \n",
       "3                                                Yes                                               \n",
       "4                                                Yes                                               \n",
       "\n",
       "  Workplace. Topic:Does your workplace value the diversity of its employees?  \\\n",
       "0                                                Yes                           \n",
       "1                                                Yes                           \n",
       "2                                                Yes                           \n",
       "3                                                Yes                           \n",
       "4                                                Yes                           \n",
       "\n",
       "  Workplace. Topic:Would you recommend the Institute as an employer to others?  \\\n",
       "0                                                Yes                             \n",
       "1                                                Yes                             \n",
       "2                                                Yes                             \n",
       "3                                                Yes                             \n",
       "4                                                Yes                             \n",
       "\n",
       "  Gender.     What is your Gender? CurrentAge.     Current Age  \\\n",
       "0                           Female                     26 – 30   \n",
       "1                              NaN                         NaN   \n",
       "2                              NaN                         NaN   \n",
       "3                              NaN                         NaN   \n",
       "4                             Male                     41 – 45   \n",
       "\n",
       "  Employment Type.     Employment Type Classification.     Classification  \\\n",
       "0                  Temporary Full-time                Administration (AO)   \n",
       "1                                  NaN                                NaN   \n",
       "2                                  NaN                                NaN   \n",
       "3                                  NaN                                NaN   \n",
       "4                  Permanent Full-time            Teacher (including LVT)   \n",
       "\n",
       "  LengthofServiceOverall. Overall Length of Service at Institute (in years)  \\\n",
       "0                                                1-2                          \n",
       "1                                                NaN                          \n",
       "2                                                NaN                          \n",
       "3                                                NaN                          \n",
       "4                                                3-4                          \n",
       "\n",
       "  LengthofServiceCurrent. Length of Service at current workplace (in years)  \n",
       "0                                                1-2                         \n",
       "1                                                NaN                         \n",
       "2                                                NaN                         \n",
       "3                                                NaN                         \n",
       "4                                                3-4                         \n",
       "\n",
       "[5 rows x 72 columns]"
      ]
     },
     "execution_count": 3,
     "metadata": {},
     "output_type": "execute_result"
    }
   ],
   "source": [
    "tafe_survey.info()\n",
    "tafe_survey.head()"
   ]
  },
  {
   "cell_type": "code",
   "execution_count": 4,
   "metadata": {},
   "outputs": [
    {
     "name": "stdout",
     "output_type": "stream",
     "text": [
      "ID                                       0\n",
      "SeparationType                           0\n",
      "Cease Date                               0\n",
      "DETE Start Date                          0\n",
      "Role Start Date                          0\n",
      "Position                                 5\n",
      "Classification                         367\n",
      "Region                                   0\n",
      "Business Unit                          696\n",
      "Employment Status                        5\n",
      "Career move to public sector             0\n",
      "Career move to private sector            0\n",
      "Interpersonal conflicts                  0\n",
      "Job dissatisfaction                      0\n",
      "Dissatisfaction with the department      0\n",
      "Physical work environment                0\n",
      "Lack of recognition                      0\n",
      "Lack of job security                     0\n",
      "Work location                            0\n",
      "Employment conditions                    0\n",
      "Maternity/family                         0\n",
      "Relocation                               0\n",
      "Study/Travel                             0\n",
      "Ill Health                               0\n",
      "Traumatic incident                       0\n",
      "Work life balance                        0\n",
      "Workload                                 0\n",
      "None of the above                        0\n",
      "Professional Development                14\n",
      "Opportunities for promotion             87\n",
      "Staff morale                             6\n",
      "Workplace issue                         34\n",
      "Physical environment                     5\n",
      "Worklife balance                         7\n",
      "Stress and pressure support             12\n",
      "Performance of supervisor                9\n",
      "Peer support                            10\n",
      "Initiative                               9\n",
      "Skills                                  11\n",
      "Coach                                   55\n",
      "Career Aspirations                      76\n",
      "Feedback                                30\n",
      "Further PD                              54\n",
      "Communication                            8\n",
      "My say                                  10\n",
      "Information                              6\n",
      "Kept informed                            9\n",
      "Wellness programs                       56\n",
      "Health & Safety                         29\n",
      "Gender                                  24\n",
      "Age                                     11\n",
      "Aboriginal                             806\n",
      "Torres Strait                          819\n",
      "South Sea                              815\n",
      "Disability                             799\n",
      "NESB                                   790\n",
      "dtype: int64\n",
      "Record ID                                                                      0\n",
      "Institute                                                                      0\n",
      "WorkArea                                                                       0\n",
      "CESSATION YEAR                                                                 7\n",
      "Reason for ceasing employment                                                  1\n",
      "                                                                            ... \n",
      "CurrentAge.     Current Age                                                  106\n",
      "Employment Type.     Employment Type                                         106\n",
      "Classification.     Classification                                           106\n",
      "LengthofServiceOverall. Overall Length of Service at Institute (in years)    106\n",
      "LengthofServiceCurrent. Length of Service at current workplace (in years)    106\n",
      "Length: 72, dtype: int64\n"
     ]
    }
   ],
   "source": [
    "print(dete_survey.isnull().sum())\n",
    "print(tafe_survey.isnull().sum())"
   ]
  },
  {
   "cell_type": "code",
   "execution_count": 5,
   "metadata": {},
   "outputs": [
    {
     "data": {
      "text/plain": [
       "(702, 72)"
      ]
     },
     "execution_count": 5,
     "metadata": {},
     "output_type": "execute_result"
    }
   ],
   "source": [
    "tafe_survey.shape"
   ]
  },
  {
   "cell_type": "markdown",
   "metadata": {},
   "source": [
    "Even at the beginning, we can tell that there are a few problems that will need to be examined more closely or fixed. In the DETE survey, there are several columns with non-trivial numbers of null values. However, some of these may just indicate that the column was not applicable to the survey responder (e.g. \"Aboriginal\": 806 missing values or \"Disability\": 799. The TAFE has bigger problems, in my opinion, in that the column names are all questions and essentially unreadable as they stand currently. A potential solution will be to melt together columns that have the same overal topic."
   ]
  },
  {
   "cell_type": "code",
   "execution_count": 6,
   "metadata": {},
   "outputs": [],
   "source": [
    "dete_survey = pd.read_csv(\"dete-exit-survey-january-2014.csv\", na_values = \"Not Stated\")\n",
    "dete_survey_updated = dete_survey.drop(dete_survey.columns[28:49], axis = 1)\n",
    "tafe_survey_updated = tafe_survey.drop(tafe_survey.columns[17:66], axis = 1)"
   ]
  },
  {
   "cell_type": "markdown",
   "metadata": {},
   "source": [
    "- The dete_survey dataframe contains 'Not Stated' values that indicate values are missing, but they aren't represented as NaN.\n",
    "- Both the dete_survey and tafe_survey dataframes contain many columns that we don't need to complete our analysis."
   ]
  },
  {
   "cell_type": "markdown",
   "metadata": {},
   "source": [
    "To start, we'll handle the first two issues. Recall that we can use the pd.read_csv() function to specify values that should be represented as NaN. We'll use this function to fix the missing values first. Then, we'll drop columns we know we don't need for our analysis."
   ]
  },
  {
   "cell_type": "code",
   "execution_count": 7,
   "metadata": {},
   "outputs": [
    {
     "data": {
      "text/plain": [
       "Index(['id', 'separationtype', 'cease_date', 'dete_start_date',\n",
       "       'role_start_date', 'position', 'classification', 'region',\n",
       "       'business_unit', 'employment_status', 'career_move_to_public_sector',\n",
       "       'career_move_to_private_sector', 'interpersonal_conflicts',\n",
       "       'job_dissatisfaction', 'dissatisfaction_with_the_department',\n",
       "       'physical_work_environment', 'lack_of_recognition',\n",
       "       'lack_of_job_security', 'work_location', 'employment_conditions',\n",
       "       'maternity/family', 'relocation', 'study/travel', 'ill_health',\n",
       "       'traumatic_incident', 'work_life_balance', 'workload',\n",
       "       'none_of_the_above', 'gender', 'age', 'aboriginal', 'torres_strait',\n",
       "       'south_sea', 'disability', 'nesb'],\n",
       "      dtype='object')"
      ]
     },
     "execution_count": 7,
     "metadata": {},
     "output_type": "execute_result"
    }
   ],
   "source": [
    "dete_survey_updated.columns = dete_survey_updated.columns.str.lower().str.strip().str.replace(\" \",\"_\")\n",
    "dete_survey_updated.columns"
   ]
  },
  {
   "cell_type": "markdown",
   "metadata": {},
   "source": [
    "Due to some inconsistant spacing issues in the cleaned up version of the TAFE survey provided by Dataquest, I stripped the columns of spaces. Moving forward when using columns from TAFE survey, enter columns with spaces removed or they will not be read. "
   ]
  },
  {
   "cell_type": "code",
   "execution_count": 8,
   "metadata": {},
   "outputs": [],
   "source": [
    "tafe_survey_updated.columns = tafe_survey_updated.columns.str.replace(\"\\s+\", \"\")\n",
    "tafe_mapping = {'RecordID': 'id', 'CESSATIONYEAR': 'cease_date', \n",
    "               'Reasonforceasingemployment': 'separationtype', \n",
    "               'Gender.WhatisyourGender?': 'gender', \n",
    "               'CurrentAge.CurrentAge': 'age', \n",
    "               'EmploymentType.EmploymentType': 'employment_status',\n",
    "               'Classification.Classification' : 'position', \n",
    "               'LengthofServiceOverall.OverallLengthofServiceatInstitute(inyears)': 'institute_service', \n",
    "               'LengthofServiceCurrent.LengthofServiceatcurrentworkplace(inyears)': 'role_service'}\n",
    "tafe_survey_updated = tafe_survey_updated.rename(tafe_mapping, axis = 1)"
   ]
  },
  {
   "cell_type": "code",
   "execution_count": 9,
   "metadata": {},
   "outputs": [
    {
     "name": "stdout",
     "output_type": "stream",
     "text": [
      "                   id                              Institute  \\\n",
      "0  634133009996094000  Southern Queensland Institute of TAFE   \n",
      "1  634133654064531000            Mount Isa Institute of TAFE   \n",
      "2  634138845606563000            Mount Isa Institute of TAFE   \n",
      "3  634139903350000000            Mount Isa Institute of TAFE   \n",
      "4  634146578511788000  Southern Queensland Institute of TAFE   \n",
      "\n",
      "                   WorkArea  cease_date    separationtype  \\\n",
      "0  Non-Delivery (corporate)      2010.0  Contract Expired   \n",
      "1  Non-Delivery (corporate)      2010.0        Retirement   \n",
      "2       Delivery (teaching)      2010.0        Retirement   \n",
      "3  Non-Delivery (corporate)      2010.0       Resignation   \n",
      "4       Delivery (teaching)      2010.0       Resignation   \n",
      "\n",
      "  ContributingFactors.CareerMove-PublicSector  \\\n",
      "0                                         NaN   \n",
      "1                                           -   \n",
      "2                                           -   \n",
      "3                                           -   \n",
      "4                                           -   \n",
      "\n",
      "  ContributingFactors.CareerMove-PrivateSector  \\\n",
      "0                                          NaN   \n",
      "1                                            -   \n",
      "2                                            -   \n",
      "3                                            -   \n",
      "4                 Career Move - Private Sector   \n",
      "\n",
      "  ContributingFactors.CareerMove-Self-employment  \\\n",
      "0                                            NaN   \n",
      "1                                              -   \n",
      "2                                              -   \n",
      "3                                              -   \n",
      "4                                              -   \n",
      "\n",
      "  ContributingFactors.IllHealth ContributingFactors.Maternity/Family  ...  \\\n",
      "0                           NaN                                  NaN  ...   \n",
      "1                             -                                    -  ...   \n",
      "2                             -                                    -  ...   \n",
      "3                             -                                    -  ...   \n",
      "4                             -                                    -  ...   \n",
      "\n",
      "  ContributingFactors.Study ContributingFactors.Travel  \\\n",
      "0                       NaN                        NaN   \n",
      "1                         -                     Travel   \n",
      "2                         -                          -   \n",
      "3                         -                     Travel   \n",
      "4                         -                          -   \n",
      "\n",
      "  ContributingFactors.Other ContributingFactors.NONE  gender      age  \\\n",
      "0                       NaN                      NaN  Female  26 – 30   \n",
      "1                         -                        -     NaN      NaN   \n",
      "2                         -                     NONE     NaN      NaN   \n",
      "3                         -                        -     NaN      NaN   \n",
      "4                         -                        -    Male  41 – 45   \n",
      "\n",
      "     employment_status                 position institute_service role_service  \n",
      "0  Temporary Full-time      Administration (AO)               1-2          1-2  \n",
      "1                  NaN                      NaN               NaN          NaN  \n",
      "2                  NaN                      NaN               NaN          NaN  \n",
      "3                  NaN                      NaN               NaN          NaN  \n",
      "4  Permanent Full-time  Teacher (including LVT)               3-4          3-4  \n",
      "\n",
      "[5 rows x 23 columns]\n"
     ]
    }
   ],
   "source": [
    "print(tafe_survey_updated.head())"
   ]
  },
  {
   "cell_type": "markdown",
   "metadata": {},
   "source": [
    "Because we eventually want to combine our two data sources, we'll have to standardize the column names. We used the DataFrame.columns attribute along with vectorized string methods to update all of the columns at once. These are not very user friendly tables especially the tafe survey. "
   ]
  },
  {
   "cell_type": "code",
   "execution_count": 10,
   "metadata": {},
   "outputs": [
    {
     "name": "stdout",
     "output_type": "stream",
     "text": [
      "Age Retirement                          285\n",
      "Resignation-Other reasons               150\n",
      "Resignation-Other employer               91\n",
      "Resignation-Move overseas/interstate     70\n",
      "Voluntary Early Retirement (VER)         67\n",
      "Ill Health Retirement                    61\n",
      "Other                                    49\n",
      "Contract Expired                         34\n",
      "Termination                              15\n",
      "Name: separationtype, dtype: int64\n",
      "\n",
      "\n",
      "Resignation                 340\n",
      "Contract Expired            127\n",
      "Retrenchment/ Redundancy    104\n",
      "Retirement                   82\n",
      "Transfer                     25\n",
      "Termination                  23\n",
      "Name: separationtype, dtype: int64\n"
     ]
    }
   ],
   "source": [
    "print(dete_survey_updated[\"separationtype\"].value_counts())\n",
    "print('\\n')\n",
    "print(tafe_survey_updated[\"separationtype\"].value_counts())"
   ]
  },
  {
   "cell_type": "code",
   "execution_count": 11,
   "metadata": {},
   "outputs": [],
   "source": [
    "dete_resign = dete_survey_updated['separationtype'].str.contains('Resignation').copy()\n",
    "dete_resignations = dete_survey_updated[dete_resign]"
   ]
  },
  {
   "cell_type": "code",
   "execution_count": 12,
   "metadata": {},
   "outputs": [
    {
     "name": "stdout",
     "output_type": "stream",
     "text": [
      "0\n"
     ]
    }
   ],
   "source": [
    "tafe_survey_updated = tafe_survey_updated.dropna(subset=[\"separationtype\"])\n",
    "print(tafe_survey_updated[\"separationtype\"].isnull().sum())"
   ]
  },
  {
   "cell_type": "code",
   "execution_count": 13,
   "metadata": {},
   "outputs": [],
   "source": [
    "tafe_resign = tafe_survey_updated['separationtype'].str.contains('Resignation').copy()\n",
    "tafe_resignations = tafe_survey_updated[tafe_resign]"
   ]
  },
  {
   "cell_type": "markdown",
   "metadata": {},
   "source": [
    "While attempting to select only the resignation data from the surveys, I ran into an issue with the tafe dataframe. Passing in boolean values was not working, and it turned out that there was a null value remaining in the column. The row appeared to be entirely null, so I decided to drop that row, fixing the issue."
   ]
  },
  {
   "cell_type": "code",
   "execution_count": 14,
   "metadata": {},
   "outputs": [
    {
     "name": "stdout",
     "output_type": "stream",
     "text": [
      "2012       126\n",
      "2013        74\n",
      "01/2014     22\n",
      "12/2013     17\n",
      "06/2013     14\n",
      "09/2013     11\n",
      "07/2013      9\n",
      "11/2013      9\n",
      "10/2013      6\n",
      "08/2013      4\n",
      "05/2012      2\n",
      "05/2013      2\n",
      "09/2010      1\n",
      "2010         1\n",
      "07/2006      1\n",
      "07/2012      1\n",
      "Name: cease_date, dtype: int64\n"
     ]
    }
   ],
   "source": [
    "print(dete_resignations['cease_date'].value_counts())"
   ]
  },
  {
   "cell_type": "markdown",
   "metadata": {},
   "source": [
    "From the above exploration of value counts in the DETE Survey's cease_date column, we note that these values need to be cleaned in order to be able to work with the dates. Specifically, we will extract the year from these dates using regular expressions. To make things easier, we note that all cease dates belong to the current milennium."
   ]
  },
  {
   "cell_type": "code",
   "execution_count": 15,
   "metadata": {},
   "outputs": [
    {
     "name": "stdout",
     "output_type": "stream",
     "text": [
      "Unique cease years in DETE Survey:\n"
     ]
    },
    {
     "data": {
      "text/plain": [
       "2006.0      1\n",
       "2010.0      2\n",
       "2012.0    129\n",
       "2013.0    146\n",
       "2014.0     22\n",
       "Name: cease_year, dtype: int64"
      ]
     },
     "execution_count": 15,
     "metadata": {},
     "output_type": "execute_result"
    }
   ],
   "source": [
    "dete_resignations['cease_year'] = dete_resignations['cease_date'].astype(str).str.extract(r'(2[0-9]{3})', expand = False)\n",
    "dete_resignations['cease_year'] = dete_resignations['cease_year'].astype(float)\n",
    "print('Unique cease years in DETE Survey:')\n",
    "dete_resignations['cease_year'].value_counts().sort_index()"
   ]
  },
  {
   "cell_type": "code",
   "execution_count": 16,
   "metadata": {},
   "outputs": [
    {
     "data": {
      "text/plain": [
       "2011.0    24\n",
       "2008.0    22\n",
       "2007.0    21\n",
       "2012.0    21\n",
       "2010.0    17\n",
       "2005.0    15\n",
       "2004.0    14\n",
       "2009.0    13\n",
       "2006.0    13\n",
       "2013.0    10\n",
       "2000.0     9\n",
       "1999.0     8\n",
       "1996.0     6\n",
       "2002.0     6\n",
       "1992.0     6\n",
       "1998.0     6\n",
       "2003.0     6\n",
       "1994.0     6\n",
       "1993.0     5\n",
       "1990.0     5\n",
       "1980.0     5\n",
       "1997.0     5\n",
       "1991.0     4\n",
       "1989.0     4\n",
       "1988.0     4\n",
       "1995.0     4\n",
       "2001.0     3\n",
       "1985.0     3\n",
       "1986.0     3\n",
       "1983.0     2\n",
       "1976.0     2\n",
       "1974.0     2\n",
       "1971.0     1\n",
       "1972.0     1\n",
       "1984.0     1\n",
       "1982.0     1\n",
       "1987.0     1\n",
       "1975.0     1\n",
       "1973.0     1\n",
       "1977.0     1\n",
       "1963.0     1\n",
       "Name: dete_start_date, dtype: int64"
      ]
     },
     "execution_count": 16,
     "metadata": {},
     "output_type": "execute_result"
    }
   ],
   "source": [
    "dete_resignations['dete_start_date'].value_counts()"
   ]
  },
  {
   "cell_type": "code",
   "execution_count": 17,
   "metadata": {},
   "outputs": [
    {
     "name": "stdout",
     "output_type": "stream",
     "text": [
      "TAFE Cease Date Frequency Table: \n"
     ]
    },
    {
     "data": {
      "text/plain": [
       "2009.0      2\n",
       "2010.0     68\n",
       "2011.0    116\n",
       "2012.0     94\n",
       "2013.0     55\n",
       "Name: cease_date, dtype: int64"
      ]
     },
     "execution_count": 17,
     "metadata": {},
     "output_type": "execute_result"
    }
   ],
   "source": [
    "print('TAFE Cease Date Frequency Table: ')\n",
    "tafe_resignations['cease_date'].value_counts().sort_index()"
   ]
  },
  {
   "cell_type": "code",
   "execution_count": 18,
   "metadata": {},
   "outputs": [
    {
     "data": {
      "image/png": "[encoded data removed]",
      "text/plain": [
       "<Figure size 432x288 with 1 Axes>"
      ]
     },
     "metadata": {
      "needs_background": "light"
     },
     "output_type": "display_data"
    }
   ],
   "source": [
    "dete_resignations.boxplot(column = ['cease_year', 'dete_start_date'])\n",
    "plt.title(\"Cease and start dates in DETE Survey\")\n",
    "plt.show()"
   ]
  },
  {
   "cell_type": "markdown",
   "metadata": {},
   "source": [
    "As we can observe in the plot above, the date ranges in the DETE Survey sound reasonable and therefore we will not remove any rows in relation to this topic."
   ]
  },
  {
   "cell_type": "code",
   "execution_count": 19,
   "metadata": {},
   "outputs": [
    {
     "data": {
      "text/plain": [
       "3      7.0\n",
       "5     18.0\n",
       "8      3.0\n",
       "9     15.0\n",
       "11     3.0\n",
       "Name: institute_service, dtype: float64"
      ]
     },
     "execution_count": 19,
     "metadata": {},
     "output_type": "execute_result"
    }
   ],
   "source": [
    "dete_resignations['institute_service'] = dete_resignations['cease_year'] - dete_resignations['dete_start_date']\n",
    "dete_resignations['institute_service'].head()"
   ]
  },
  {
   "cell_type": "markdown",
   "metadata": {},
   "source": [
    "We need a column that details the length of service of the employee. We note that this column already exists for the TAFE Survey (institute_service), but not for the DETE Survey. Hence, we will use the start and cease dates in the DETE Survey to create an equivalent column."
   ]
  },
  {
   "cell_type": "markdown",
   "metadata": {},
   "source": [
    "## Identifying dissatisfaction\n",
    "As a next step, we will identify the employees who resigned due to dissatisfaction with their job and categorize them as 'dissatisfied' from each dataframe. We will identify an employee as 'dissatisfied' if he or she indicated that any of the following factores caused her/him to resign.\n",
    "\n",
    "### DETE Survey\n",
    "- job_dissatisfaction\n",
    "- dissatisfaction_with_the_department\n",
    "- physical_work_environment\n",
    "- lack_of_recognition\n",
    "- lack_of_job_security\n",
    "- work_location\n",
    "- employment_conditions\n",
    "- work_life_balance\n",
    "- workload\n",
    "\n",
    "### TAFE Survey\n",
    "- Contributing Factors. Dissatisfaction\n",
    "- Contributing Factors. Job Dissatisfaction"
   ]
  },
  {
   "cell_type": "markdown",
   "metadata": {},
   "source": [
    "We will begin by categorizing the employees in the TAFE Survey. We observe that these columns only take two values, with '-' indicating that the variable was not a factor in the employee's decision to resign. We will change these values to True, False or NaN values by writing the following update_vals function."
   ]
  },
  {
   "cell_type": "code",
   "execution_count": 23,
   "metadata": {},
   "outputs": [
    {
     "data": {
      "text/plain": [
       "-                                         277\n",
       "Contributing Factors. Dissatisfaction      55\n",
       "Name: ContributingFactors.Dissatisfaction, dtype: int64"
      ]
     },
     "execution_count": 23,
     "metadata": {},
     "output_type": "execute_result"
    }
   ],
   "source": [
    "tafe_resignations['ContributingFactors.Dissatisfaction'].value_counts()"
   ]
  },
  {
   "cell_type": "code",
   "execution_count": 24,
   "metadata": {},
   "outputs": [
    {
     "data": {
      "text/plain": [
       "-                      270\n",
       "Job Dissatisfaction     62\n",
       "Name: ContributingFactors.JobDissatisfaction, dtype: int64"
      ]
     },
     "execution_count": 24,
     "metadata": {},
     "output_type": "execute_result"
    }
   ],
   "source": [
    "tafe_resignations['ContributingFactors.JobDissatisfaction'].value_counts()"
   ]
  },
  {
   "cell_type": "code",
   "execution_count": 25,
   "metadata": {},
   "outputs": [],
   "source": [
    "def update_vals(element):\n",
    "    if pd.isnull(element):\n",
    "        return np.nan\n",
    "    elif element == '-':\n",
    "        return False\n",
    "    else:\n",
    "        return True"
   ]
  },
  {
   "cell_type": "code",
   "execution_count": 28,
   "metadata": {},
   "outputs": [],
   "source": [
    "tafe_factors = tafe_resignations[['ContributingFactors.Dissatisfaction', 'ContributingFactors.JobDissatisfaction']].applymap(update_vals)\n",
    "tafe_resignations['dissatisfied'] = tafe_factors.any(axis = 1, skipna = False)"
   ]
  },
  {
   "cell_type": "markdown",
   "metadata": {},
   "source": [
    "Next, we will apply the same process to the DETE Survey. Note that this Survey already has True/False values for each of the factors, so we can skip the above manipulation."
   ]
  },
  {
   "cell_type": "code",
   "execution_count": 29,
   "metadata": {},
   "outputs": [],
   "source": [
    "dete_resignations['dissatisfied'] = dete_resignations[['job_dissatisfaction', 'dissatisfaction_with_the_department', \n",
    "                                                          'physical_work_environment', 'lack_of_recognition', \n",
    "                                                          'lack_of_job_security', 'work_location', \n",
    "                                                          'employment_conditions', 'work_life_balance', \n",
    "                                                          'workload']].any(axis = 1, skipna = False)"
   ]
  },
  {
   "cell_type": "code",
   "execution_count": 30,
   "metadata": {},
   "outputs": [],
   "source": [
    "dete_resignations_up = dete_resignations.copy()\n",
    "tafe_resignations_up = tafe_resignations.copy()"
   ]
  },
  {
   "cell_type": "markdown",
   "metadata": {},
   "source": [
    "### Combining both datasets for analysis\n",
    "Next, we will combine the TAFE and DETE Surveys. For this purpose, we will add a column named institute to identify which institue the employee worked at."
   ]
  },
  {
   "cell_type": "code",
   "execution_count": 31,
   "metadata": {},
   "outputs": [],
   "source": [
    "dete_resignations_up['institute'] = 'DETE'\n",
    "tafe_resignations_up['institute'] = 'TAFE'\n",
    "combined = pd.concat([dete_resignations_up, tafe_resignations_up], ignore_index = True, sort = False)\n",
    "combined_updated = combined.dropna(thresh = 500, axis = 1)"
   ]
  },
  {
   "cell_type": "markdown",
   "metadata": {},
   "source": [
    "Below, we find the first rows of the combined dataset. We have kept the columns detailing employee ID, separation type, cease date, position, employment status, gender, age, years of service and institute."
   ]
  },
  {
   "cell_type": "code",
   "execution_count": 32,
   "metadata": {},
   "outputs": [
    {
     "data": {
      "text/html": [
       "<div>\n",
       "<style scoped>\n",
       "    .dataframe tbody tr th:only-of-type {\n",
       "        vertical-align: middle;\n",
       "    }\n",
       "\n",
       "    .dataframe tbody tr th {\n",
       "        vertical-align: top;\n",
       "    }\n",
       "\n",
       "    .dataframe thead th {\n",
       "        text-align: right;\n",
       "    }\n",
       "</style>\n",
       "<table border=\"1\" class=\"dataframe\">\n",
       "  <thead>\n",
       "    <tr style=\"text-align: right;\">\n",
       "      <th></th>\n",
       "      <th>id</th>\n",
       "      <th>separationtype</th>\n",
       "      <th>cease_date</th>\n",
       "      <th>position</th>\n",
       "      <th>employment_status</th>\n",
       "      <th>gender</th>\n",
       "      <th>age</th>\n",
       "      <th>institute_service</th>\n",
       "      <th>dissatisfied</th>\n",
       "      <th>institute</th>\n",
       "    </tr>\n",
       "  </thead>\n",
       "  <tbody>\n",
       "    <tr>\n",
       "      <th>0</th>\n",
       "      <td>4</td>\n",
       "      <td>Resignation-Other reasons</td>\n",
       "      <td>05/2012</td>\n",
       "      <td>Teacher</td>\n",
       "      <td>Permanent Full-time</td>\n",
       "      <td>Female</td>\n",
       "      <td>36-40</td>\n",
       "      <td>7</td>\n",
       "      <td>False</td>\n",
       "      <td>DETE</td>\n",
       "    </tr>\n",
       "    <tr>\n",
       "      <th>1</th>\n",
       "      <td>6</td>\n",
       "      <td>Resignation-Other reasons</td>\n",
       "      <td>05/2012</td>\n",
       "      <td>Guidance Officer</td>\n",
       "      <td>Permanent Full-time</td>\n",
       "      <td>Female</td>\n",
       "      <td>41-45</td>\n",
       "      <td>18</td>\n",
       "      <td>True</td>\n",
       "      <td>DETE</td>\n",
       "    </tr>\n",
       "    <tr>\n",
       "      <th>2</th>\n",
       "      <td>9</td>\n",
       "      <td>Resignation-Other reasons</td>\n",
       "      <td>07/2012</td>\n",
       "      <td>Teacher</td>\n",
       "      <td>Permanent Full-time</td>\n",
       "      <td>Female</td>\n",
       "      <td>31-35</td>\n",
       "      <td>3</td>\n",
       "      <td>False</td>\n",
       "      <td>DETE</td>\n",
       "    </tr>\n",
       "    <tr>\n",
       "      <th>3</th>\n",
       "      <td>10</td>\n",
       "      <td>Resignation-Other employer</td>\n",
       "      <td>2012</td>\n",
       "      <td>Teacher Aide</td>\n",
       "      <td>Permanent Part-time</td>\n",
       "      <td>Female</td>\n",
       "      <td>46-50</td>\n",
       "      <td>15</td>\n",
       "      <td>True</td>\n",
       "      <td>DETE</td>\n",
       "    </tr>\n",
       "    <tr>\n",
       "      <th>4</th>\n",
       "      <td>12</td>\n",
       "      <td>Resignation-Move overseas/interstate</td>\n",
       "      <td>2012</td>\n",
       "      <td>Teacher</td>\n",
       "      <td>Permanent Full-time</td>\n",
       "      <td>Male</td>\n",
       "      <td>31-35</td>\n",
       "      <td>3</td>\n",
       "      <td>False</td>\n",
       "      <td>DETE</td>\n",
       "    </tr>\n",
       "  </tbody>\n",
       "</table>\n",
       "</div>"
      ],
      "text/plain": [
       "   id                        separationtype cease_date          position  \\\n",
       "0   4             Resignation-Other reasons    05/2012           Teacher   \n",
       "1   6             Resignation-Other reasons    05/2012  Guidance Officer   \n",
       "2   9             Resignation-Other reasons    07/2012           Teacher   \n",
       "3  10            Resignation-Other employer       2012      Teacher Aide   \n",
       "4  12  Resignation-Move overseas/interstate       2012           Teacher   \n",
       "\n",
       "     employment_status  gender    age institute_service dissatisfied institute  \n",
       "0  Permanent Full-time  Female  36-40                 7        False      DETE  \n",
       "1  Permanent Full-time  Female  41-45                18         True      DETE  \n",
       "2  Permanent Full-time  Female  31-35                 3        False      DETE  \n",
       "3  Permanent Part-time  Female  46-50                15         True      DETE  \n",
       "4  Permanent Full-time    Male  31-35                 3        False      DETE  "
      ]
     },
     "execution_count": 32,
     "metadata": {},
     "output_type": "execute_result"
    }
   ],
   "source": [
    "combined_updated.head()"
   ]
  },
  {
   "cell_type": "markdown",
   "metadata": {},
   "source": [
    "### Analysis\n",
    "Now that we have cleaned, combined dataset, we will look into the analytical goals that were set at the beginning of this project. Since we are interested in the effect that years of service has on resignation reasons, we begin by cleaning this column. We will convert its numbers into the following categories to be able to analyze the data:\n",
    "- New: Less than 3 years at a company\n",
    "- Experienced: 3-6 years at a company\n",
    "- Established: 7-10 years at a company\n",
    "- Veteran: 11 or more years at a company"
   ]
  },
  {
   "cell_type": "code",
   "execution_count": 33,
   "metadata": {},
   "outputs": [
    {
     "data": {
      "text/plain": [
       "Less than 1 year      73\n",
       "1-2                   64\n",
       "3-4                   63\n",
       "5-6                   33\n",
       "11-20                 26\n",
       "5.0                   23\n",
       "1.0                   22\n",
       "7-10                  21\n",
       "0.0                   20\n",
       "3.0                   20\n",
       "6.0                   17\n",
       "4.0                   16\n",
       "2.0                   14\n",
       "9.0                   14\n",
       "7.0                   13\n",
       "More than 20 years    10\n",
       "8.0                    8\n",
       "13.0                   8\n",
       "20.0                   7\n",
       "15.0                   7\n",
       "10.0                   6\n",
       "12.0                   6\n",
       "14.0                   6\n",
       "17.0                   6\n",
       "22.0                   6\n",
       "16.0                   5\n",
       "18.0                   5\n",
       "11.0                   4\n",
       "24.0                   4\n",
       "23.0                   4\n",
       "19.0                   3\n",
       "21.0                   3\n",
       "39.0                   3\n",
       "32.0                   3\n",
       "25.0                   2\n",
       "26.0                   2\n",
       "28.0                   2\n",
       "30.0                   2\n",
       "36.0                   2\n",
       "27.0                   1\n",
       "29.0                   1\n",
       "33.0                   1\n",
       "35.0                   1\n",
       "38.0                   1\n",
       "31.0                   1\n",
       "41.0                   1\n",
       "42.0                   1\n",
       "49.0                   1\n",
       "34.0                   1\n",
       "Name: institute_service, dtype: int64"
      ]
     },
     "execution_count": 33,
     "metadata": {},
     "output_type": "execute_result"
    }
   ],
   "source": [
    "combined_updated['institute_service'].value_counts()"
   ]
  },
  {
   "cell_type": "markdown",
   "metadata": {},
   "source": [
    "First, we'll extract the years of service from each value in the institute_service column. Then we will create a function to categorize a new column titled 'service_cat'."
   ]
  },
  {
   "cell_type": "code",
   "execution_count": 35,
   "metadata": {},
   "outputs": [],
   "source": [
    "years_service = combined_updated['institute_service'].astype(str).str.extract(r'([0-9][0-9]?)').astype(float)"
   ]
  },
  {
   "cell_type": "code",
   "execution_count": 36,
   "metadata": {},
   "outputs": [],
   "source": [
    "def categorize(val):\n",
    "    if pd.isnull(val):\n",
    "        return np.nan\n",
    "    elif val < 3:\n",
    "        return 'New'\n",
    "    elif (val >= 3) and (val < 6):\n",
    "        return 'Experienced'\n",
    "    elif (val >= 6) and (val <= 10):\n",
    "        return 'Established'\n",
    "    else:\n",
    "        return 'Veteran'        "
   ]
  },
  {
   "cell_type": "code",
   "execution_count": 37,
   "metadata": {},
   "outputs": [],
   "source": [
    "service_cat = years_service[0].apply(categorize)\n",
    "final = combined_updated.copy()\n",
    "final['service_cat'] = service_cat"
   ]
  },
  {
   "cell_type": "code",
   "execution_count": 38,
   "metadata": {},
   "outputs": [
    {
     "data": {
      "text/html": [
       "<div>\n",
       "<style scoped>\n",
       "    .dataframe tbody tr th:only-of-type {\n",
       "        vertical-align: middle;\n",
       "    }\n",
       "\n",
       "    .dataframe tbody tr th {\n",
       "        vertical-align: top;\n",
       "    }\n",
       "\n",
       "    .dataframe thead th {\n",
       "        text-align: right;\n",
       "    }\n",
       "</style>\n",
       "<table border=\"1\" class=\"dataframe\">\n",
       "  <thead>\n",
       "    <tr style=\"text-align: right;\">\n",
       "      <th></th>\n",
       "      <th>id</th>\n",
       "      <th>separationtype</th>\n",
       "      <th>cease_date</th>\n",
       "      <th>position</th>\n",
       "      <th>employment_status</th>\n",
       "      <th>gender</th>\n",
       "      <th>age</th>\n",
       "      <th>institute_service</th>\n",
       "      <th>dissatisfied</th>\n",
       "      <th>institute</th>\n",
       "      <th>service_cat</th>\n",
       "    </tr>\n",
       "  </thead>\n",
       "  <tbody>\n",
       "    <tr>\n",
       "      <th>0</th>\n",
       "      <td>4</td>\n",
       "      <td>Resignation-Other reasons</td>\n",
       "      <td>05/2012</td>\n",
       "      <td>Teacher</td>\n",
       "      <td>Permanent Full-time</td>\n",
       "      <td>Female</td>\n",
       "      <td>36-40</td>\n",
       "      <td>7</td>\n",
       "      <td>False</td>\n",
       "      <td>DETE</td>\n",
       "      <td>Established</td>\n",
       "    </tr>\n",
       "    <tr>\n",
       "      <th>1</th>\n",
       "      <td>6</td>\n",
       "      <td>Resignation-Other reasons</td>\n",
       "      <td>05/2012</td>\n",
       "      <td>Guidance Officer</td>\n",
       "      <td>Permanent Full-time</td>\n",
       "      <td>Female</td>\n",
       "      <td>41-45</td>\n",
       "      <td>18</td>\n",
       "      <td>True</td>\n",
       "      <td>DETE</td>\n",
       "      <td>Veteran</td>\n",
       "    </tr>\n",
       "    <tr>\n",
       "      <th>2</th>\n",
       "      <td>9</td>\n",
       "      <td>Resignation-Other reasons</td>\n",
       "      <td>07/2012</td>\n",
       "      <td>Teacher</td>\n",
       "      <td>Permanent Full-time</td>\n",
       "      <td>Female</td>\n",
       "      <td>31-35</td>\n",
       "      <td>3</td>\n",
       "      <td>False</td>\n",
       "      <td>DETE</td>\n",
       "      <td>Experienced</td>\n",
       "    </tr>\n",
       "    <tr>\n",
       "      <th>3</th>\n",
       "      <td>10</td>\n",
       "      <td>Resignation-Other employer</td>\n",
       "      <td>2012</td>\n",
       "      <td>Teacher Aide</td>\n",
       "      <td>Permanent Part-time</td>\n",
       "      <td>Female</td>\n",
       "      <td>46-50</td>\n",
       "      <td>15</td>\n",
       "      <td>True</td>\n",
       "      <td>DETE</td>\n",
       "      <td>Veteran</td>\n",
       "    </tr>\n",
       "    <tr>\n",
       "      <th>4</th>\n",
       "      <td>12</td>\n",
       "      <td>Resignation-Move overseas/interstate</td>\n",
       "      <td>2012</td>\n",
       "      <td>Teacher</td>\n",
       "      <td>Permanent Full-time</td>\n",
       "      <td>Male</td>\n",
       "      <td>31-35</td>\n",
       "      <td>3</td>\n",
       "      <td>False</td>\n",
       "      <td>DETE</td>\n",
       "      <td>Experienced</td>\n",
       "    </tr>\n",
       "  </tbody>\n",
       "</table>\n",
       "</div>"
      ],
      "text/plain": [
       "   id                        separationtype cease_date          position  \\\n",
       "0   4             Resignation-Other reasons    05/2012           Teacher   \n",
       "1   6             Resignation-Other reasons    05/2012  Guidance Officer   \n",
       "2   9             Resignation-Other reasons    07/2012           Teacher   \n",
       "3  10            Resignation-Other employer       2012      Teacher Aide   \n",
       "4  12  Resignation-Move overseas/interstate       2012           Teacher   \n",
       "\n",
       "     employment_status  gender    age institute_service dissatisfied  \\\n",
       "0  Permanent Full-time  Female  36-40                 7        False   \n",
       "1  Permanent Full-time  Female  41-45                18         True   \n",
       "2  Permanent Full-time  Female  31-35                 3        False   \n",
       "3  Permanent Part-time  Female  46-50                15         True   \n",
       "4  Permanent Full-time    Male  31-35                 3        False   \n",
       "\n",
       "  institute  service_cat  \n",
       "0      DETE  Established  \n",
       "1      DETE      Veteran  \n",
       "2      DETE  Experienced  \n",
       "3      DETE      Veteran  \n",
       "4      DETE  Experienced  "
      ]
     },
     "execution_count": 38,
     "metadata": {},
     "output_type": "execute_result"
    }
   ],
   "source": [
    "final.head()"
   ]
  },
  {
   "cell_type": "code",
   "execution_count": 39,
   "metadata": {},
   "outputs": [
    {
     "data": {
      "text/plain": [
       "False    403\n",
       "True     240\n",
       "True       8\n",
       "Name: dissatisfied, dtype: int64"
      ]
     },
     "execution_count": 39,
     "metadata": {},
     "output_type": "execute_result"
    }
   ],
   "source": [
    "final['dissatisfied'].value_counts(dropna = False)"
   ]
  },
  {
   "cell_type": "code",
   "execution_count": 40,
   "metadata": {},
   "outputs": [
    {
     "data": {
      "text/plain": [
       "id                    0\n",
       "separationtype        0\n",
       "cease_date           16\n",
       "position             53\n",
       "employment_status    54\n",
       "gender               59\n",
       "age                  55\n",
       "institute_service    88\n",
       "dissatisfied          8\n",
       "institute             0\n",
       "service_cat          88\n",
       "dtype: int64"
      ]
     },
     "execution_count": 40,
     "metadata": {},
     "output_type": "execute_result"
    }
   ],
   "source": [
    "final.isnull().sum()"
   ]
  },
  {
   "cell_type": "code",
   "execution_count": 41,
   "metadata": {},
   "outputs": [],
   "source": [
    "final['dissatisfied'] = final['dissatisfied'].fillna(False)"
   ]
  },
  {
   "cell_type": "code",
   "execution_count": 42,
   "metadata": {},
   "outputs": [
    {
     "data": {
      "text/plain": [
       "id                    0\n",
       "separationtype        0\n",
       "cease_date           16\n",
       "position             53\n",
       "employment_status    54\n",
       "gender               59\n",
       "age                  55\n",
       "institute_service    88\n",
       "dissatisfied          0\n",
       "institute             0\n",
       "service_cat          88\n",
       "dtype: int64"
      ]
     },
     "execution_count": 42,
     "metadata": {},
     "output_type": "execute_result"
    }
   ],
   "source": [
    "final.isnull().sum()"
   ]
  },
  {
   "cell_type": "code",
   "execution_count": 43,
   "metadata": {},
   "outputs": [],
   "source": [
    "pivot_final = final.pivot_table(index = 'service_cat', values = 'dissatisfied')"
   ]
  },
  {
   "cell_type": "code",
   "execution_count": 44,
   "metadata": {},
   "outputs": [
    {
     "data": {
      "text/plain": [
       "<matplotlib.axes._subplots.AxesSubplot at 0x7fd2734929d0>"
      ]
     },
     "execution_count": 44,
     "metadata": {},
     "output_type": "execute_result"
    },
    {
     "data": {
      "image/png": "[encoded data removed]",
      "text/plain": [
       "<Figure size 432x288 with 1 Axes>"
      ]
     },
     "metadata": {
      "needs_background": "light"
     },
     "output_type": "display_data"
    }
   ],
   "source": [
    "pivot_final.plot(kind = 'bar')"
   ]
  },
  {
   "cell_type": "markdown",
   "metadata": {},
   "source": [
    "As seen above, we see that employees tend to resign due to dissatisfaction primarily when they are Established and Veterans. That is, the employees who have been at the insitute for the longest time are those who tend to resign due to dissatisfaction. This is highly reasonable, seeing as New and Experienced employees (those with less than 11 years at the institute) are in the process of developing their careers at the insitutes and tend to have higher opportunities for mobility."
   ]
  },
  {
   "cell_type": "markdown",
   "metadata": {},
   "source": [
    "### Conclusions\n",
    "In this report, we performed several data cleaning tasks in order to explore the relation between employee dissatisfaction when resigning and years of service at two institutes. We found that, on average, employees that report dissatisfaction as a reason for resigning tend to be those with the highest amount of years working at the company, that is, established and veteran employees. Further analysis could be performed to explore differences across institutes (DETE and TAFE), a more granular analysis on reasons for dissatisfaction and employee position."
   ]
  },
  {
   "cell_type": "code",
   "execution_count": null,
   "metadata": {},
   "outputs": [],
   "source": []
  }
 ],
 "metadata": {
  "kernelspec": {
   "display_name": "Python 3",
   "language": "python",
   "name": "python3"
  },
  "language_info": {
   "codemirror_mode": {
    "name": "ipython",
    "version": 3
   },
   "file_extension": ".py",
   "mimetype": "text/x-python",
   "name": "python",
   "nbconvert_exporter": "python",
   "pygments_lexer": "ipython3",
   "version": "3.7.6"
  }
 },
 "nbformat": 4,
 "nbformat_minor": 4
}
